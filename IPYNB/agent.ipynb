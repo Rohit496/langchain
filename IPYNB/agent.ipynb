{
 "cells": [
  {
   "cell_type": "code",
   "execution_count": 1,
   "id": "76776406",
   "metadata": {},
   "outputs": [],
   "source": [
    "from langchain_openai import ChatOpenAI\n",
    "from langchain_core.tools import tool\n",
    "import requests"
   ]
  },
  {
   "cell_type": "code",
   "execution_count": 5,
   "id": "28226a62",
   "metadata": {},
   "outputs": [],
   "source": [
    "from langchain_community.tools import DuckDuckGoSearchRun\n",
    "\n",
    "search_tool = DuckDuckGoSearchRun()\n",
    "\n",
    "result = search_tool.run(\"What is IPL?\")\n"
   ]
  },
  {
   "cell_type": "code",
   "execution_count": 6,
   "id": "a0caeefd",
   "metadata": {},
   "outputs": [
    {
     "data": {
      "text/plain": [
       "'1 week ago - The Indian Premier League (IPL) is a professional Twenty20 (T20) cricket league in India, organised by the Board of Control for Cricket in India (BCCI). Founded in 2007, it features ten city-based franchise teams. The IPL is the most popular and richest cricket league in the world. 3 weeks ago - Intense pulsed light (IPL) is a technology used by cosmetic and medical practitioners to perform various skin treatments for aesthetic and therapeutic purposes, including hair removal, photorejuvenation (e.g. the treatment of skin pigmentation, sun damage, and thread veins) as well as to alleviate ... Feb 4, 2024 · Intense pulsed light (IPL) therapy, also known as a photo facial, is a way to improve the color and texture of your skin without surgery. It can undo some of the visible damage caused by sun... The Indian Premier League ( IPL ) is an Indian professional Twenty20 (T20) cricket league established in 2008. The league is based on a round-robin group and knockout format and has teams in major Indian cities. How many teams were there in the first Indian Premier League? There were eight teams in the first Indian Premier League ( IPL ). The Mumbai Indians, the Chennai Super Kings, the Royal Challengers Bangalore, the Deccan Chargers (based in Hyderabad), the Delhi Daredevils, the Punjab XI Kings (Mohali), the Kolkata Knight Riders, and the Rajasthan Royals (Jaipur). Who won the first Indian Premier League tournament? The first Indian Premier League tournament ( IPL ), held over 44 days in 2008, was won by the Rajasthan Royals, one of the smaller-market franchises, which was captained by Shane Warne, the great Australian bowler. Indian Premier League ( IPL ), Indian professional Twenty20 (T20) cricket league that was established in 2008 and has developed into one of the richest sports leagues in the world. The brainchild of the Board of Control for Cricket in India (BCCI), the Indian Premier League ( IPL ) is based on a round-robin group and knockout format and has teams in major Indian cities. See full list on britannica.com The first IPL tournament, held over 44 days in 2008, was won by the Rajasthan Royals, one of the smaller-market franchises, captained by Shane Warne, the great Australian bowler. The IPL has come a long way since its first season. According to a Forbes report in 2022, the average value of the IPL franchises shows an annualized growth rate of 24 per... See full list on britannica.com Results of the Indian Premier League championship are provided in the table. Students save 67%! Learn more about our special academic rate today. See full list on britannica.com Jun 26, 2025 · What is IPL? The IPL, or Indian Premier League, is more than just a cricket tournament; it\\'s a massive sporting event that attracts millions of people every summer. It stands for \"Indian Premier League,\" and it brings together cricket talent from all over the world in a fast-paced T20 format. Apr 15, 2025 · What is the IPL? The Indian Premier League (IPL) is a professional Twenty20 cricket league in India . Launched in 2008, it features 10 teams representing different cities and states across India. Jul 28, 2025 · The Indian Premier League, more commonly known as the IPL, is a professional Twenty20 cricket league that has taken the cricketing world by storm. Launched in 2008 by the Board of Control for Cricket in India (BCCI), the IPL quickly became the most lucrative and widely followed T20 league globally. How is the IPL organized in India? The Indian Premier League (IPL) is organized by the Board of Control for Cricket in India . Every season begins with auctions among its various team franchises and bidding for domestic and international players. The teams in the league represent different regions and cities. The Chennai Super Kings won the IPL in 2023 against the Gujarat Titans. Does major league cricket have an IPL connection? Major League Cricket (MLC), a U.S. T20 cricket league launched in 2023, also has its IPL connections : four of its six franchises have investments from IPL franchise owners, and many IPL cricketers feature in MLC. Results of the Indian Premier League championship are provided in the table. What do you need to know about IPL? Consider this your cheat sheet for what you need to know about IPL before you get the treatment. 1. IPL uses light —but it’s not a laser. First things first: IPL is its own technology, which uses multiple wavelengths of light to treat a variety of skin conditions. The IPL is based on a franchise model where teams represent various Indian cities or states. These franchises are owned by celebrities, business tycoons, and corporate entities. Jun 26, 2025 · What is IPL? The IPL, or Indian Premier League, is more than just a cricket tournament; it\\'s a massive sporting event that attracts millions of people every summer. It stands for \"Indian Premier League,\" and it brings together cricket talent from all over the world in a fast-paced T20 format.'"
      ]
     },
     "execution_count": 6,
     "metadata": {},
     "output_type": "execute_result"
    }
   ],
   "source": [
    "result"
   ]
  },
  {
   "cell_type": "code",
   "execution_count": 22,
   "id": "02f8916d",
   "metadata": {},
   "outputs": [],
   "source": [
    "@tool\n",
    "def get_weather_data(city: str) -> str:\n",
    "    \"\"\"\n",
    "    This function fetches the current weather data for a given city\n",
    "    \"\"\"\n",
    "    url = f\"https://api.weatherstack.com/current?access_key=b04459d1c0a01971937c5144faa4aab5&query={city}\"\n",
    "\n",
    "    response = requests.get(url)\n",
    "\n",
    "    return response.json()"
   ]
  },
  {
   "cell_type": "code",
   "execution_count": 7,
   "id": "28272d28",
   "metadata": {},
   "outputs": [],
   "source": [
    "llm = ChatOpenAI()"
   ]
  },
  {
   "cell_type": "code",
   "execution_count": 9,
   "id": "a1c0f96e",
   "metadata": {},
   "outputs": [
    {
     "data": {
      "text/plain": [
       "AIMessage(content='Hi! How can I assist you today?', additional_kwargs={'refusal': None}, response_metadata={'token_usage': {'completion_tokens': 9, 'prompt_tokens': 8, 'total_tokens': 17, 'completion_tokens_details': {'accepted_prediction_tokens': 0, 'audio_tokens': 0, 'reasoning_tokens': 0, 'rejected_prediction_tokens': 0}, 'prompt_tokens_details': {'audio_tokens': 0, 'cached_tokens': 0}}, 'model_name': 'gpt-3.5-turbo-0125', 'system_fingerprint': None, 'id': 'chatcmpl-CSIcJfNmPgIO5iSy55gQe58wnP3S6', 'service_tier': 'default', 'finish_reason': 'stop', 'logprobs': None}, id='run--92e51cc4-f8cc-4d1e-bba0-628916179003-0', usage_metadata={'input_tokens': 8, 'output_tokens': 9, 'total_tokens': 17, 'input_token_details': {'audio': 0, 'cache_read': 0}, 'output_token_details': {'audio': 0, 'reasoning': 0}})"
      ]
     },
     "execution_count": 9,
     "metadata": {},
     "output_type": "execute_result"
    }
   ],
   "source": [
    "llm.invoke(\"Hello\")"
   ]
  },
  {
   "cell_type": "code",
   "execution_count": 10,
   "id": "1a4668e3",
   "metadata": {},
   "outputs": [],
   "source": [
    "from langchain.agents import create_react_agent, AgentExecutor\n",
    "from langchain import hub"
   ]
  },
  {
   "cell_type": "code",
   "execution_count": 11,
   "id": "ec6c0992",
   "metadata": {},
   "outputs": [],
   "source": [
    "# Step 2: Pull the ReAct prompt from LangChain Hub\n",
    "prompt = hub.pull(\"hwchase17/react\")  # pulls the standard ReAct agent prompt"
   ]
  },
  {
   "cell_type": "code",
   "execution_count": null,
   "id": "2beeca4d",
   "metadata": {},
   "outputs": [],
   "source": [
    "# Step 3: Create the ReAct agent manually with the pulled prompt\n",
    "agent = create_react_agent(\n",
    "    llm=llm, tools=[search_tool, get_weather_data], prompt=prompt\n",
    ")"
   ]
  },
  {
   "cell_type": "code",
   "execution_count": null,
   "id": "7ac55377",
   "metadata": {},
   "outputs": [],
   "source": [
    "# Step 4: Wrap it with AgentExecutor\n",
    "agent_executor = AgentExecutor(\n",
    "    agent=agent, tools=[search_tool, get_weather_data], verbose=True\n",
    ")"
   ]
  },
  {
   "cell_type": "code",
   "execution_count": 23,
   "id": "13070744",
   "metadata": {},
   "outputs": [
    {
     "name": "stdout",
     "output_type": "stream",
     "text": [
      "\n",
      "\n",
      "\u001b[1m> Entering new AgentExecutor chain...\u001b[0m\n",
      "\u001b[32;1m\u001b[1;3mI should first find out the capital of Uttar Pradesh before getting the current weather.\n",
      "Action: duckduckgo_search\n",
      "Action Input: Capital of Uttar Pradesh\u001b[0m\u001b[36;1m\u001b[1;3mThe following outline is provided as an overview of and topical guide to Uttar Pradesh : Uttar Pradesh – most populous state in the Republic of India as well as the most populous country subdivision in the world. Uttar Pradesh (UTT-ər prə-DESH, abbr. UP; Hindi: Uttar Pradēś, pronounced [ˈʊtːəɾ pɾəˈdeːʃ] ⓘ, lit. ' Northern Province ') is a state in northern India. With over Its capital is Bhopal, and Madhya Pradesh is the second-largest Indian state by area and the fifth-largest state by population with over 72 million residents. It borders the states of Uttar Pradesh , Chhattisgarh, Maharashtra, Gujarat, and Rajasthan. Top QuestionsWhat are some major cities in Uttar Pradesh besides its capital ?What is the population of Uttar Pradesh , and why is it significant? The capital of Uttar Pradesh is Lucknow known for its famous memorial shrine of the Muslims called Bara Imambara and Chota Imambara adorned by beautiful calligraphy. I decided to explore UP beyond Taj Mahal and my next destination was Lucknow.\u001b[0m\u001b[32;1m\u001b[1;3mNow that I know the capital of Uttar Pradesh is Lucknow, I can search for the current weather in that city.\n",
      "Action: duckduckgo_search\n",
      "Action Input: Current weather in Lucknow\u001b[0m\u001b[36;1m\u001b[1;3mWant to know what the weather is now? Check out our current live radar and weather forecasts for Lucknow , Uttar Pradesh, IN to help plan your day Get the latest hourly weather updates for Lucknow today. Detailed forecast including temperature, wind, rain, snow, and UV index. Stay informed about today's weather conditions in Lucknow . Get the latest Lucknow weather updates! Check today's forecast, temperature, humidity, hourly updates rain alerts. Stay prepared with real-time Lucknow weather reports! Latest weather forecast for Lucknow for today's, hourly weather forecast, including today's temperatures in Lucknow , wind, rain and more. Current weather in Lucknow is 33°C. Get today's Lucknow weather report along with accurate forecast including hourly, weekly and monthly reports at Oneindia.\u001b[0m\u001b[32;1m\u001b[1;3mI have now found out that the current weather in Lucknow is 33°C.\n",
      "Final Answer: The capital of Uttar Pradesh is Lucknow, and the current weather in that city is 33°C.\u001b[0m\n",
      "\n",
      "\u001b[1m> Finished chain.\u001b[0m\n",
      "{'input': 'Find the capital of Uttar Pradesh, then get the current weather in that city.', 'output': 'The capital of Uttar Pradesh is Lucknow, and the current weather in that city is 33°C.'}\n",
      "======================\n",
      "The capital of Uttar Pradesh is Lucknow, and the current weather in that city is 33°C.\n"
     ]
    }
   ],
   "source": [
    "# Step 5: Invoke\n",
    "response = agent_executor.invoke(\n",
    "    {\n",
    "        \"input\": \"Find the capital of Uttar Pradesh, then get the current weather in that city.\"\n",
    "    }\n",
    ")\n",
    "print(response)\n",
    "print((\"======================\"))\n",
    "print(response['output'])"
   ]
  }
 ],
 "metadata": {
  "kernelspec": {
   "display_name": "langchain_env",
   "language": "python",
   "name": "langchain_env"
  },
  "language_info": {
   "codemirror_mode": {
    "name": "ipython",
    "version": 3
   },
   "file_extension": ".py",
   "mimetype": "text/x-python",
   "name": "python",
   "nbconvert_exporter": "python",
   "pygments_lexer": "ipython3",
   "version": "3.13.7"
  }
 },
 "nbformat": 4,
 "nbformat_minor": 5
}
