{
 "cells": [
  {
   "cell_type": "code",
   "execution_count": 3,
   "id": "5a91b314",
   "metadata": {},
   "outputs": [
    {
     "data": {
      "text/plain": [
       "'<OPENAI_API_KEY>'"
      ]
     },
     "execution_count": 3,
     "metadata": {},
     "output_type": "execute_result"
    }
   ],
   "source": [
    "import os\n",
    "from dotenv import load_dotenv\n",
    "\n",
    "load_dotenv()\n",
    "\n",
    "import openai\n",
    "\n",
    "openai.api_key = os.getenv(\"OPENAI_API_KEY\")\n",
    "openai.api_key"
   ]
  },
  {
   "cell_type": "code",
   "execution_count": 13,
   "id": "29ed84b5",
   "metadata": {},
   "outputs": [
    {
     "name": "stdout",
     "output_type": "stream",
     "text": [
      "Of course! Taking care of a new dog is an exciting responsibility. Here are some tips to help you care for your new furry friend:\n",
      "\n",
      "1. **Provide a balanced diet:** Make sure your dog is getting proper nutrition by feeding them high-quality dog food. Consult with your veterinarian for recommendations on the best diet for your dog's age, size, and breed.\n",
      "\n",
      "2. **Regular exercise:** Dogs need regular exercise to stay healthy and happy. Take your dog for daily walks or play interactive games to keep them active.\n",
      "\n",
      "3. **Regular vet check-ups:** Schedule regular check-ups with a veterinarian to ensure your dog is healthy and up to date on vaccinations and preventative care.\n",
      "\n",
      "4. **Grooming:** Depending on the breed, your dog may require regular grooming such as brushing, bathing, and nail trimming. Keep your dog clean and well-groomed to prevent skin issues and matting.\n",
      "\n",
      "5. **Training:** Consistent training and positive reinforcement are important for a well-behaved dog. Teach your dog basic commands and provide mental stimulation through training and interactive toys.\n",
      "\n",
      "6. **Socialization:** Socialize your dog with other animals and people to prevent behavioral issues and help them feel comfortable in different environments.\n",
      "\n",
      "7. **Safety:** Make\n"
     ]
    }
   ],
   "source": [
    "client=openai.OpenAI()\n",
    "completion = client.chat.completions.create(\n",
    "    model=\"gpt-3.5-turbo\",\n",
    "    messages=[\n",
    "        {\"role\": \"system\", \"content\": \"You are a helpful assistant.\"},\n",
    "        {\"role\": \"user\", \"content\": \"I've recently adopted a dog. Can you provide some tips on how to take care of it?\"},\n",
    "    ],\n",
    "    max_tokens=250,\n",
    "    temperature=0.7\n",
    ")\n",
    "print(completion.choices[0].message.content)"
   ]
  },
  {
   "cell_type": "code",
   "execution_count": 15,
   "id": "1e8dc6df",
   "metadata": {},
   "outputs": [
    {
     "name": "stdout",
     "output_type": "stream",
     "text": [
      "Collecting ipywidgets\n",
      "  Using cached ipywidgets-8.1.7-py3-none-any.whl.metadata (2.4 kB)\n",
      "Requirement already satisfied: comm>=0.1.3 in /Users/rohit/Workspace/Langchain/.venv/lib/python3.13/site-packages (from ipywidgets) (0.2.3)\n",
      "Requirement already satisfied: ipython>=6.1.0 in /Users/rohit/Workspace/Langchain/.venv/lib/python3.13/site-packages (from ipywidgets) (9.6.0)\n",
      "Requirement already satisfied: traitlets>=4.3.1 in /Users/rohit/Workspace/Langchain/.venv/lib/python3.13/site-packages (from ipywidgets) (5.14.3)\n",
      "Collecting widgetsnbextension~=4.0.14 (from ipywidgets)\n",
      "  Using cached widgetsnbextension-4.0.14-py3-none-any.whl.metadata (1.6 kB)\n",
      "Collecting jupyterlab_widgets~=3.0.15 (from ipywidgets)\n",
      "  Using cached jupyterlab_widgets-3.0.15-py3-none-any.whl.metadata (20 kB)\n",
      "Requirement already satisfied: decorator in /Users/rohit/Workspace/Langchain/.venv/lib/python3.13/site-packages (from ipython>=6.1.0->ipywidgets) (5.2.1)\n",
      "Requirement already satisfied: ipython-pygments-lexers in /Users/rohit/Workspace/Langchain/.venv/lib/python3.13/site-packages (from ipython>=6.1.0->ipywidgets) (1.1.1)\n",
      "Requirement already satisfied: jedi>=0.16 in /Users/rohit/Workspace/Langchain/.venv/lib/python3.13/site-packages (from ipython>=6.1.0->ipywidgets) (0.19.2)\n",
      "Requirement already satisfied: matplotlib-inline in /Users/rohit/Workspace/Langchain/.venv/lib/python3.13/site-packages (from ipython>=6.1.0->ipywidgets) (0.1.7)\n",
      "Requirement already satisfied: pexpect>4.3 in /Users/rohit/Workspace/Langchain/.venv/lib/python3.13/site-packages (from ipython>=6.1.0->ipywidgets) (4.9.0)\n",
      "Requirement already satisfied: prompt_toolkit<3.1.0,>=3.0.41 in /Users/rohit/Workspace/Langchain/.venv/lib/python3.13/site-packages (from ipython>=6.1.0->ipywidgets) (3.0.52)\n",
      "Requirement already satisfied: pygments>=2.4.0 in /Users/rohit/Workspace/Langchain/.venv/lib/python3.13/site-packages (from ipython>=6.1.0->ipywidgets) (2.19.2)\n",
      "Requirement already satisfied: stack_data in /Users/rohit/Workspace/Langchain/.venv/lib/python3.13/site-packages (from ipython>=6.1.0->ipywidgets) (0.6.3)\n",
      "Requirement already satisfied: wcwidth in /Users/rohit/Workspace/Langchain/.venv/lib/python3.13/site-packages (from prompt_toolkit<3.1.0,>=3.0.41->ipython>=6.1.0->ipywidgets) (0.2.14)\n",
      "Requirement already satisfied: parso<0.9.0,>=0.8.4 in /Users/rohit/Workspace/Langchain/.venv/lib/python3.13/site-packages (from jedi>=0.16->ipython>=6.1.0->ipywidgets) (0.8.5)\n",
      "Requirement already satisfied: ptyprocess>=0.5 in /Users/rohit/Workspace/Langchain/.venv/lib/python3.13/site-packages (from pexpect>4.3->ipython>=6.1.0->ipywidgets) (0.7.0)\n",
      "Requirement already satisfied: executing>=1.2.0 in /Users/rohit/Workspace/Langchain/.venv/lib/python3.13/site-packages (from stack_data->ipython>=6.1.0->ipywidgets) (2.2.1)\n",
      "Requirement already satisfied: asttokens>=2.1.0 in /Users/rohit/Workspace/Langchain/.venv/lib/python3.13/site-packages (from stack_data->ipython>=6.1.0->ipywidgets) (3.0.0)\n",
      "Requirement already satisfied: pure-eval in /Users/rohit/Workspace/Langchain/.venv/lib/python3.13/site-packages (from stack_data->ipython>=6.1.0->ipywidgets) (0.2.3)\n",
      "Using cached ipywidgets-8.1.7-py3-none-any.whl (139 kB)\n",
      "Using cached jupyterlab_widgets-3.0.15-py3-none-any.whl (216 kB)\n",
      "Using cached widgetsnbextension-4.0.14-py3-none-any.whl (2.2 MB)\n",
      "Installing collected packages: widgetsnbextension, jupyterlab_widgets, ipywidgets\n",
      "\u001b[2K   \u001b[90m━━━━━━━━━━━━━━━━━━━━━━━━━━━━━━━━━━━━━━━━\u001b[0m \u001b[32m3/3\u001b[0m [ipywidgets]\n",
      "\u001b[1A\u001b[2KSuccessfully installed ipywidgets-8.1.7 jupyterlab_widgets-3.0.15 widgetsnbextension-4.0.14\n",
      "Note: you may need to restart the kernel to use updated packages.\n"
     ]
    }
   ],
   "source": [
    "pip install ipywidgets"
   ]
  },
  {
   "cell_type": "code",
   "execution_count": 2,
   "id": "be5cbb49",
   "metadata": {},
   "outputs": [],
   "source": [
    "from langchain_openai import ChatOpenAI\n",
    "\n",
    "model = ChatOpenAI(model_name=\"gpt-4o\", temperature=0.7,  max_tokens=1000)\n"
   ]
  },
  {
   "cell_type": "code",
   "execution_count": 3,
   "id": "92b2b5ea",
   "metadata": {},
   "outputs": [],
   "source": [
    "response = model.invoke(\n",
    "    \"\"\"I've recently adopted a dog. Can you provide some tips on how to take care of it?\"\"\"\n",
    ")"
   ]
  },
  {
   "cell_type": "code",
   "execution_count": 4,
   "id": "f75a7a5b",
   "metadata": {},
   "outputs": [
    {
     "data": {
      "text/plain": [
       "AIMessage(content=\"Congratulations on adopting a dog! Here are some essential tips to help you take care of your new furry friend:\\n\\n1. **Nutrition:**\\n   - Choose a high-quality dog food appropriate for your dog's age, size, and breed.\\n   - Provide fresh water at all times.\\n   - Consult your veterinarian about portion sizes and feeding schedules.\\n\\n2. **Exercise:**\\n   - Ensure your dog gets regular exercise to maintain a healthy weight and mental well-being.\\n   - Tailor the type and amount of exercise to your dog's breed and energy level.\\n\\n3. **Training:**\\n   - Start with basic commands like sit, stay, come, and heel.\\n   - Use positive reinforcement techniques, such as treats and praise.\\n   - Consistency and patience are key to effective training.\\n\\n4. **Socialization:**\\n   - Introduce your dog to different environments, people, and other animals.\\n   - Ensure experiences are positive to build confidence and reduce anxiety.\\n\\n5. **Grooming:**\\n   - Brush your dog's coat regularly to prevent matting and reduce shedding.\\n   - Bathe your dog as needed, depending on breed and activity level.\\n   - Keep nails trimmed and ears clean to prevent infections.\\n\\n6. **Healthcare:**\\n   - Schedule regular vet check-ups for vaccinations, parasite prevention, and overall health assessments.\\n   - Watch for changes in behavior or appetite, which could indicate health issues.\\n   - Ensure your dog is spayed or neutered if not already done.\\n\\n7. **Safety:**\\n   - Secure your home and yard to prevent escapes and accidents.\\n   - Provide a collar with an ID tag and consider microchipping as a backup.\\n   - Keep harmful substances and foods out of reach.\\n\\n8. **Comfort:**\\n   - Provide a comfortable bed and a safe space for your dog to relax.\\n   - Establish a routine to help your dog feel secure and reduce anxiety.\\n\\n9. **Love and Attention:**\\n   - Spend quality time with your dog to build a strong bond.\\n   - Offer plenty of affection, play, and mental stimulation.\\n\\n10. **Emergency Preparedness:**\\n    - Have a first aid kit tailored for pets.\\n    - Keep your vet's contact information and an emergency vet clinic's details handy.\\n\\nEach dog is unique, so pay attention to your dog's specific needs and preferences. Enjoy your time with your new companion!\", additional_kwargs={'refusal': None}, response_metadata={'token_usage': {'completion_tokens': 480, 'prompt_tokens': 26, 'total_tokens': 506, 'completion_tokens_details': {'accepted_prediction_tokens': 0, 'audio_tokens': 0, 'reasoning_tokens': 0, 'rejected_prediction_tokens': 0}, 'prompt_tokens_details': {'audio_tokens': 0, 'cached_tokens': 0}}, 'model_name': 'gpt-4o-2024-08-06', 'system_fingerprint': 'fp_cbf1785567', 'id': 'chatcmpl-CPleQ8mTaTr8VMK5DZhyCv4tbvZFL', 'service_tier': 'default', 'finish_reason': 'stop', 'logprobs': None}, id='run--effb2b7c-0214-45ca-8c35-c548166c27d4-0', usage_metadata={'input_tokens': 26, 'output_tokens': 480, 'total_tokens': 506, 'input_token_details': {'audio': 0, 'cache_read': 0}, 'output_token_details': {'audio': 0, 'reasoning': 0}})"
      ]
     },
     "execution_count": 4,
     "metadata": {},
     "output_type": "execute_result"
    }
   ],
   "source": [
    "response"
   ]
  },
  {
   "cell_type": "code",
   "execution_count": 26,
   "id": "5fa77992",
   "metadata": {},
   "outputs": [
    {
     "data": {
      "text/plain": [
       "'Congratulations on adopting a dog! Taking care of a dog is a rewarding experience, and it’s great that you’re seeking tips to ensure your furry friend is healthy and happy. Here are some essential tips for taking care of your new pet:\\n\\n1. **Basic Needs:**\\n   - **Food:** Choose a high-quality dog food that is appropriate for your dog’s age, size, and health. Consult your veterinarian for recommendations.\\n   - **Water:** Ensure your dog has access to fresh, clean water at all times.\\n   - **Shelter:** Provide a comfortable place for your dog to rest, whether it’s a dog bed or a designated spot in your home.\\n\\n2. **Health Care:**\\n   - **Veterinarian Visits:** Schedule regular check-ups with a veterinarian to keep vaccinations up to date and monitor your dog’s health.\\n   - **Parasite Control:** Use flea, tick, and worm control products as recommended by your vet.\\n   - **Spaying/Neutering:** Consider spaying or neutering your dog if it hasn’t been done already.\\n\\n3. **Exercise and Training:**\\n   - **Exercise:** Ensure your dog gets regular exercise suited to its breed and energy level. This could include walks, playtime, or other activities.\\n   - **Training:** Start basic obedience training early to help with communication and behavior. Consistency and positive reinforcement are key.\\n\\n4. **Socialization:**\\n   - Introduce your dog to different environments, people, and other animals gradually to help them become well-adjusted and confident.\\n\\n5. **Grooming:**\\n   - Regularly brush your dog’s coat to keep it clean and reduce shedding. The frequency depends on the breed.\\n   - Bathe your dog as needed, but not too often, as it can dry out their skin. Use dog-specific shampoo.\\n   - Keep nails trimmed and check ears for signs of infection.\\n\\n6. **Safety:**\\n   - Ensure your home and yard are safe and secure. Remove any hazards or toxic substances.\\n   - Use a leash in public and consider a microchip or ID tag for identification.\\n\\n7. **Love and Attention:**\\n   - Spend quality time with your dog to build a strong bond. Dogs thrive on attention and companionship.\\n\\n8. **Patience and Understanding:**\\n   - Be patient, especially if your dog is adjusting to a new environment. Every dog is different, and some may take longer to settle in.\\n\\nBy providing these essentials, you’ll help your new dog lead a happy and fulfilling life. Don’t hesitate to seek advice from professionals, such as veterinarians or dog trainers, if you have specific concerns or questions. Enjoy your time with your new companion!'"
      ]
     },
     "execution_count": 26,
     "metadata": {},
     "output_type": "execute_result"
    }
   ],
   "source": [
    "response.content"
   ]
  },
  {
   "cell_type": "code",
   "execution_count": 27,
   "id": "955df978",
   "metadata": {},
   "outputs": [
    {
     "name": "stdout",
     "output_type": "stream",
     "text": [
      "Congratulations on adopting a dog! Taking care of a dog is a rewarding experience, and it’s great that you’re seeking tips to ensure your furry friend is healthy and happy. Here are some essential tips for taking care of your new pet:\n",
      "\n",
      "1. **Basic Needs:**\n",
      "   - **Food:** Choose a high-quality dog food that is appropriate for your dog’s age, size, and health. Consult your veterinarian for recommendations.\n",
      "   - **Water:** Ensure your dog has access to fresh, clean water at all times.\n",
      "   - **Shelter:** Provide a comfortable place for your dog to rest, whether it’s a dog bed or a designated spot in your home.\n",
      "\n",
      "2. **Health Care:**\n",
      "   - **Veterinarian Visits:** Schedule regular check-ups with a veterinarian to keep vaccinations up to date and monitor your dog’s health.\n",
      "   - **Parasite Control:** Use flea, tick, and worm control products as recommended by your vet.\n",
      "   - **Spaying/Neutering:** Consider spaying or neutering your dog if it hasn’t been done already.\n",
      "\n",
      "3. **Exercise and Training:**\n",
      "   - **Exercise:** Ensure your dog gets regular exercise suited to its breed and energy level. This could include walks, playtime, or other activities.\n",
      "   - **Training:** Start basic obedience training early to help with communication and behavior. Consistency and positive reinforcement are key.\n",
      "\n",
      "4. **Socialization:**\n",
      "   - Introduce your dog to different environments, people, and other animals gradually to help them become well-adjusted and confident.\n",
      "\n",
      "5. **Grooming:**\n",
      "   - Regularly brush your dog’s coat to keep it clean and reduce shedding. The frequency depends on the breed.\n",
      "   - Bathe your dog as needed, but not too often, as it can dry out their skin. Use dog-specific shampoo.\n",
      "   - Keep nails trimmed and check ears for signs of infection.\n",
      "\n",
      "6. **Safety:**\n",
      "   - Ensure your home and yard are safe and secure. Remove any hazards or toxic substances.\n",
      "   - Use a leash in public and consider a microchip or ID tag for identification.\n",
      "\n",
      "7. **Love and Attention:**\n",
      "   - Spend quality time with your dog to build a strong bond. Dogs thrive on attention and companionship.\n",
      "\n",
      "8. **Patience and Understanding:**\n",
      "   - Be patient, especially if your dog is adjusting to a new environment. Every dog is different, and some may take longer to settle in.\n",
      "\n",
      "By providing these essentials, you’ll help your new dog lead a happy and fulfilling life. Don’t hesitate to seek advice from professionals, such as veterinarians or dog trainers, if you have specific concerns or questions. Enjoy your time with your new companion!\n"
     ]
    }
   ],
   "source": [
    "print(response.content)"
   ]
  },
  {
   "cell_type": "markdown",
   "id": "0c9609e1",
   "metadata": {},
   "source": [
    "### Human and System Messages"
   ]
  },
  {
   "cell_type": "code",
   "execution_count": 15,
   "id": "26d15ef4",
   "metadata": {},
   "outputs": [],
   "source": [
    "from langchain_openai import ChatOpenAI\n",
    "from langchain_core.messages import SystemMessage, HumanMessage\n",
    "\n",
    "chat=ChatOpenAI(model_name=\"gpt-4o\", temperature=0.7,  max_tokens=100)"
   ]
  },
  {
   "cell_type": "code",
   "execution_count": 10,
   "id": "610be9ee",
   "metadata": {},
   "outputs": [],
   "source": [
    "human_msg = HumanMessage(content=\"I've recently adopted a dog. Can you provide some tips on how to take care of it?\")\n",
    "system_msg = SystemMessage(content=\"You are a helpful assistant.\")"
   ]
  },
  {
   "cell_type": "code",
   "execution_count": 11,
   "id": "1ad8d45b",
   "metadata": {},
   "outputs": [],
   "source": [
    "response = chat.invoke([system_msg, human_msg])"
   ]
  },
  {
   "cell_type": "code",
   "execution_count": 12,
   "id": "a0efed82",
   "metadata": {},
   "outputs": [
    {
     "data": {
      "text/plain": [
       "AIMessage(content='Congratulations on adopting a dog! Here are some tips to help you take good care of your new furry friend:\\n\\n1. **Nutrition:**\\n   - Feed your dog a balanced diet appropriate for their age, size, and activity level.\\n   - Make sure they have access to fresh, clean water at all times.\\n   - Consult your veterinarian for specific dietary recommendations.\\n\\n2. **Exercise:**\\n   - Provide regular exercise to keep your dog physically and mentally healthy. The amount and type of exercise depend', additional_kwargs={'refusal': None}, response_metadata={'token_usage': {'completion_tokens': 100, 'prompt_tokens': 36, 'total_tokens': 136, 'completion_tokens_details': {'accepted_prediction_tokens': 0, 'audio_tokens': 0, 'reasoning_tokens': 0, 'rejected_prediction_tokens': 0}, 'prompt_tokens_details': {'audio_tokens': 0, 'cached_tokens': 0}}, 'model_name': 'gpt-4o-2024-08-06', 'system_fingerprint': 'fp_f33640a400', 'id': 'chatcmpl-CPllGm9lPc4EMjDhoFQ4lnMgrVj4N', 'service_tier': 'default', 'finish_reason': 'length', 'logprobs': None}, id='run--818a5068-53b2-4473-acec-d0183fe622a6-0', usage_metadata={'input_tokens': 36, 'output_tokens': 100, 'total_tokens': 136, 'input_token_details': {'audio': 0, 'cache_read': 0}, 'output_token_details': {'audio': 0, 'reasoning': 0}})"
      ]
     },
     "execution_count": 12,
     "metadata": {},
     "output_type": "execute_result"
    }
   ],
   "source": [
    "response"
   ]
  },
  {
   "cell_type": "code",
   "execution_count": 13,
   "id": "69648796",
   "metadata": {},
   "outputs": [
    {
     "name": "stdout",
     "output_type": "stream",
     "text": [
      "Congratulations on adopting a dog! Here are some tips to help you take good care of your new furry friend:\n",
      "\n",
      "1. **Nutrition:**\n",
      "   - Feed your dog a balanced diet appropriate for their age, size, and activity level.\n",
      "   - Make sure they have access to fresh, clean water at all times.\n",
      "   - Consult your veterinarian for specific dietary recommendations.\n",
      "\n",
      "2. **Exercise:**\n",
      "   - Provide regular exercise to keep your dog physically and mentally healthy. The amount and type of exercise depend\n"
     ]
    }
   ],
   "source": [
    "print(response.content)"
   ]
  },
  {
   "cell_type": "markdown",
   "id": "acb724d7",
   "metadata": {},
   "source": [
    "### AI Messages"
   ]
  },
  {
   "cell_type": "code",
   "execution_count": 22,
   "id": "895773fb",
   "metadata": {},
   "outputs": [
    {
     "name": "stdout",
     "output_type": "stream",
     "text": [
      "Sure, here are some tips for taking care of your new fish:\n",
      "\n",
      "1. Choose the Right Tank: Depending on the species and size of your fish, you'll need a tank that's the right size. A general rule is one gallon of water per one inch of fish.\n",
      "\n",
      "2. Keep the Water Clean: Change about 10-15% of the tank water on a weekly basis to keep it clean. Avoid changing all the water at once as it can shock the fish.\n",
      "\n",
      "3. Maintain the Right Temperature: Most tropical fish require a temperature between 75 and 80 degrees Fahrenheit. Get a tank heater and a thermometer to maintain the right temperature.\n",
      "\n",
      "4. Provide the Right Food: Different species of fish have different dietary needs. Make sure you're feeding your fish the right type of food and the right amount.\n",
      "\n",
      "5. Monitor pH Levels: Most fish prefer a pH between 6.8 and 7.6. Test the water regularly and if the pH is off, you can use products to adjust it.\n",
      "\n",
      "6. Provide Enrichment: Fish like to have things to explore, so adding plants, rocks, or other aquarium-safe decorations can help keep them happy.\n",
      "\n",
      "7. Regular Check-ups: Just like any other pet, fish can get sick. Watch for changes in their behavior or appearance and consult with a vet if something seems wrong. \n",
      "\n",
      "Remember, every species of fish has different needs, so it's important to do research specifically on the type of fish you have.\n"
     ]
    }
   ],
   "source": [
    "from langchain_openai import ChatOpenAI\n",
    "from langchain_core.messages import  HumanMessage, AIMessage\n",
    "\n",
    "chat = ChatOpenAI(model_name=\"gpt-4\", temperature=0.7, max_tokens=1000)\n",
    "\n",
    "human_msg = HumanMessage(\n",
    "    content=\"I've recently adopted a dog. Can you provide some tips on how to take care of it?\"\n",
    ")\n",
    "message_ai_dog = AIMessage(content = ''' Oh, absolutely. Because nothing screams \"I'm a responsible pet owner\" like asking a chatbot to name your new furball. How about \"Bark Twain\" (if it's a literary hound)? ''')\n",
    "\n",
    "human_msg_cat = HumanMessage(\n",
    "    content=\"I've recently adopted a cat. Can you provide some tips on how to take care of it?\"\n",
    ")\n",
    "message_ai_fish = AIMessage(\n",
    "    content=\"\"\"I've recently adopted a fish. Can you provide some tips on how to take care of it? \"\"\"\n",
    ")\n",
    "response = chat.invoke([human_msg, message_ai_dog, human_msg_cat, message_ai_fish])\n",
    "print(response.content)"
   ]
  },
  {
   "cell_type": "markdown",
   "id": "5e17e41e",
   "metadata": {},
   "source": [
    "### Prompt Template and Prompt values"
   ]
  },
  {
   "cell_type": "code",
   "execution_count": 23,
   "id": "a4863a76",
   "metadata": {},
   "outputs": [],
   "source": [
    "from langchain.prompts import PromptTemplate\n",
    "\n",
    "\n",
    "\n",
    "TEMPLATE=\"\"\"\n",
    "System: {description}\n",
    "Human: I have recently adopted a {pet}. Can you provide some {pet} names for it?\n",
    "\n",
    "\"\"\"\n",
    "\n",
    "prompt_template = PromptTemplate.from_template(template=TEMPLATE)"
   ]
  },
  {
   "cell_type": "code",
   "execution_count": 24,
   "id": "e2cdc988",
   "metadata": {},
   "outputs": [
    {
     "data": {
      "text/plain": [
       "PromptTemplate(input_variables=['description', 'pet'], input_types={}, partial_variables={}, template='\\nSystem: {description}\\nHuman: I have recently adopted a {pet}. Can you provide some {pet} names for it?\\n\\n')"
      ]
     },
     "execution_count": 24,
     "metadata": {},
     "output_type": "execute_result"
    }
   ],
   "source": [
    "prompt_template"
   ]
  },
  {
   "cell_type": "code",
   "execution_count": 25,
   "id": "bfb6117e",
   "metadata": {},
   "outputs": [],
   "source": [
    "prompt_value=prompt_template.invoke({\"pet\": \"dog\", \"description\": \"You are a helpful assistant\", \"pet_names\": \"unique\"})"
   ]
  },
  {
   "cell_type": "code",
   "execution_count": 26,
   "id": "9c04f650",
   "metadata": {},
   "outputs": [
    {
     "data": {
      "text/plain": [
       "StringPromptValue(text='\\nSystem: You are a helpful assistant\\nHuman: I have recently adopted a dog. Can you provide some dog names for it?\\n\\n')"
      ]
     },
     "execution_count": 26,
     "metadata": {},
     "output_type": "execute_result"
    }
   ],
   "source": [
    "prompt_value"
   ]
  },
  {
   "cell_type": "code",
   "execution_count": 29,
   "id": "53385afb",
   "metadata": {},
   "outputs": [
    {
     "name": "stdout",
     "output_type": "stream",
     "text": [
      "text='\\nSystem: You are a helpful assistant\\nHuman: I have recently adopted a dog. Can you provide some dog names for it?\\n\\n'\n"
     ]
    }
   ],
   "source": [
    "print(prompt_value)"
   ]
  },
  {
   "cell_type": "markdown",
   "id": "2f3e32ba",
   "metadata": {},
   "source": [
    "### Chat prompt template and Chat Prompt values"
   ]
  },
  {
   "cell_type": "code",
   "execution_count": 44,
   "id": "ffd40860",
   "metadata": {},
   "outputs": [],
   "source": [
    "from langchain_openai.chat_models import ChatOpenAI\n",
    "\n",
    "from langchain_core.prompts.chat import (\n",
    "    SystemMessagePromptTemplate,\n",
    "    HumanMessagePromptTemplate,\n",
    "    ChatPromptTemplate,\n",
    ")"
   ]
  },
  {
   "cell_type": "code",
   "execution_count": null,
   "id": "3664f405",
   "metadata": {},
   "outputs": [],
   "source": [
    "chat=ChatOpenAI(model_name=\"gpt-4o\", temperature=0.7,  max_tokens=1000)"
   ]
  },
  {
   "cell_type": "code",
   "execution_count": 32,
   "id": "24cbd710",
   "metadata": {},
   "outputs": [],
   "source": [
    "TEMPLATE_S=\"\"\"\n",
    "System: {description}\"\"\"\n",
    "\n",
    "TEMPLATE_H=\"\"\"\n",
    "Human: I have recently adopted a {pet}. Can you provide some {pet} names for it?\n",
    "\"\"\" "
   ]
  },
  {
   "cell_type": "code",
   "execution_count": 33,
   "id": "2930002e",
   "metadata": {},
   "outputs": [],
   "source": [
    "message_template_s = SystemMessagePromptTemplate.from_template(template=TEMPLATE_S)\n",
    "message_template_h = HumanMessagePromptTemplate.from_template(template=TEMPLATE_H)"
   ]
  },
  {
   "cell_type": "code",
   "execution_count": 34,
   "id": "4faec736",
   "metadata": {},
   "outputs": [
    {
     "data": {
      "text/plain": [
       "SystemMessagePromptTemplate(prompt=PromptTemplate(input_variables=['description'], input_types={}, partial_variables={}, template='\\nSystem: {description}'), additional_kwargs={})"
      ]
     },
     "execution_count": 34,
     "metadata": {},
     "output_type": "execute_result"
    }
   ],
   "source": [
    "message_template_s"
   ]
  },
  {
   "cell_type": "code",
   "execution_count": 35,
   "id": "3cfa436f",
   "metadata": {},
   "outputs": [
    {
     "data": {
      "text/plain": [
       "HumanMessagePromptTemplate(prompt=PromptTemplate(input_variables=['pet'], input_types={}, partial_variables={}, template='\\nHuman: I have recently adopted a {pet}. Can you provide some {pet} names for it?\\n'), additional_kwargs={})"
      ]
     },
     "execution_count": 35,
     "metadata": {},
     "output_type": "execute_result"
    }
   ],
   "source": [
    "message_template_h"
   ]
  },
  {
   "cell_type": "code",
   "execution_count": 36,
   "id": "cdcb51c9",
   "metadata": {},
   "outputs": [],
   "source": [
    "chat_message = ChatPromptTemplate.from_messages(\n",
    "    [message_template_s, message_template_h]\n",
    ")\n"
   ]
  },
  {
   "cell_type": "code",
   "execution_count": 37,
   "id": "0f36b970",
   "metadata": {},
   "outputs": [
    {
     "data": {
      "text/plain": [
       "ChatPromptTemplate(input_variables=['description', 'pet'], input_types={}, partial_variables={}, messages=[SystemMessagePromptTemplate(prompt=PromptTemplate(input_variables=['description'], input_types={}, partial_variables={}, template='\\nSystem: {description}'), additional_kwargs={}), HumanMessagePromptTemplate(prompt=PromptTemplate(input_variables=['pet'], input_types={}, partial_variables={}, template='\\nHuman: I have recently adopted a {pet}. Can you provide some {pet} names for it?\\n'), additional_kwargs={})])"
      ]
     },
     "execution_count": 37,
     "metadata": {},
     "output_type": "execute_result"
    }
   ],
   "source": [
    "chat_message"
   ]
  },
  {
   "cell_type": "code",
   "execution_count": 38,
   "id": "c786aeda",
   "metadata": {},
   "outputs": [],
   "source": [
    "chat_value=chat_message.invoke({\"pet\": \"dog\", \"description\": \"You are a helpful assistant\", \"pet_names\": \"unique\"})"
   ]
  },
  {
   "cell_type": "code",
   "execution_count": 39,
   "id": "198b1933",
   "metadata": {},
   "outputs": [
    {
     "data": {
      "text/plain": [
       "ChatPromptValue(messages=[SystemMessage(content='\\nSystem: You are a helpful assistant', additional_kwargs={}, response_metadata={}), HumanMessage(content='\\nHuman: I have recently adopted a dog. Can you provide some dog names for it?\\n', additional_kwargs={}, response_metadata={})])"
      ]
     },
     "execution_count": 39,
     "metadata": {},
     "output_type": "execute_result"
    }
   ],
   "source": [
    "chat_value"
   ]
  },
  {
   "cell_type": "code",
   "execution_count": 40,
   "id": "93ddc235",
   "metadata": {},
   "outputs": [],
   "source": [
    "response = chat.invoke(chat_value)"
   ]
  },
  {
   "cell_type": "code",
   "execution_count": 41,
   "id": "1d95c743",
   "metadata": {},
   "outputs": [
    {
     "name": "stdout",
     "output_type": "stream",
     "text": [
      "System: Of course, I'd be happy to help! Here are a few suggestions for male, female, and unisex dog names:\n",
      "\n",
      "Male Dog Names:\n",
      "1. Max\n",
      "2. Buddy\n",
      "3. Charlie\n",
      "4. Rocky\n",
      "5. Jack\n",
      "6. Duke\n",
      "7. Bear\n",
      "8. Jasper\n",
      "9. Milo\n",
      "10. Toby\n",
      "\n",
      "Female Dog Names:\n",
      "1. Bella\n",
      "2. Lucy\n",
      "3. Daisy\n",
      "4. Luna\n",
      "5. Molly\n",
      "6. Lola\n",
      "7. Sadie\n",
      "8. Ruby\n",
      "9. Sophie\n",
      "10. Chloe\n",
      "\n",
      "Unisex Dog Names:\n",
      "1. Bailey\n",
      "2. Alex\n",
      "3. Riley\n",
      "4. Harley\n",
      "5. Casey\n",
      "6. Dakota\n",
      "7. Sam\n",
      "8. Taylor\n",
      "9. Jordan\n",
      "10. Jamie\n",
      "\n",
      "Remember, the best name for your dog is one that fits its personality and your personal preferences. Enjoy your time with your new furry friend!\n",
      "\n"
     ]
    }
   ],
   "source": [
    "print(response.content)"
   ]
  },
  {
   "cell_type": "markdown",
   "id": "4de3d64c",
   "metadata": {},
   "source": [
    "### Few-Shot Chat Message Prompt Templates"
   ]
  },
  {
   "cell_type": "code",
   "execution_count": 71,
   "id": "9f611237",
   "metadata": {},
   "outputs": [],
   "source": [
    "from langchain_openai.chat_models import ChatOpenAI\n",
    "\n",
    "from langchain_core.prompts import (\n",
    "    ChatPromptTemplate,\n",
    "    HumanMessagePromptTemplate,\n",
    "    AIMessagePromptTemplate,\n",
    "    FewShotChatMessagePromptTemplate,\n",
    ")\n"
   ]
  },
  {
   "cell_type": "code",
   "execution_count": 72,
   "id": "1d9b39ab",
   "metadata": {},
   "outputs": [],
   "source": [
    "chat=ChatOpenAI(model_name=\"gpt-4o\", temperature=0.7,  max_tokens=1000)"
   ]
  },
  {
   "cell_type": "code",
   "execution_count": 73,
   "id": "61a639ed",
   "metadata": {},
   "outputs": [],
   "source": [
    "TEMPLATE_H=\"\"\"\n",
    "Human: I have recently adopted a {pet}. Can you provide some {pet} names for it?\n",
    "\"\"\"\n",
    "TEMPLATE_A=\"\"\"\n",
    "{response}\n",
    "\"\"\"\n",
    "\n",
    "message_template_h = HumanMessagePromptTemplate.from_template(template=TEMPLATE_H)\n",
    "message_template_a = AIMessagePromptTemplate.from_template(template=TEMPLATE_A)\n"
   ]
  },
  {
   "cell_type": "code",
   "execution_count": 74,
   "id": "c4a940d1",
   "metadata": {},
   "outputs": [],
   "source": [
    "example_template=ChatPromptTemplate.from_messages([message_template_h, message_template_a])\n",
    "example=[{\"pet\": \"dog\", \"response\": \"Sure! Here are some unique dog names: Bark Twain, Sir Waggington, Paws, Fido, Rex.\"},\n",
    "        {\"pet\": \"cat\", \"response\": \"Absolutely! Here are some creative cat names: Whiskers, Chairman Meow, Purrlock Holmes, Catrick Swayze.\"}\n",
    "         ]"
   ]
  },
  {
   "cell_type": "code",
   "execution_count": 75,
   "id": "405f548d",
   "metadata": {},
   "outputs": [],
   "source": [
    "few_shot_prompt = FewShotChatMessagePromptTemplate(\n",
    "    examples=example,\n",
    "    example_prompt=example_template,\n",
    ")\n"
   ]
  },
  {
   "cell_type": "code",
   "execution_count": 76,
   "id": "ffb414f2",
   "metadata": {},
   "outputs": [],
   "source": [
    "chat_template=ChatPromptTemplate.from_messages([few_shot_prompt, message_template_h])"
   ]
  },
  {
   "cell_type": "code",
   "execution_count": 77,
   "id": "e0f6e4bd",
   "metadata": {},
   "outputs": [],
   "source": [
    "chat_value= chat_template.invoke({\"pet\": \"fish\"})"
   ]
  },
  {
   "cell_type": "code",
   "execution_count": 78,
   "id": "34423325",
   "metadata": {},
   "outputs": [
    {
     "data": {
      "text/plain": [
       "ChatPromptValue(messages=[HumanMessage(content='\\nHuman: I have recently adopted a dog. Can you provide some dog names for it?\\n', additional_kwargs={}, response_metadata={}), AIMessage(content='\\nSure! Here are some unique dog names: Bark Twain, Sir Waggington, Paws, Fido, Rex.\\n', additional_kwargs={}, response_metadata={}), HumanMessage(content='\\nHuman: I have recently adopted a cat. Can you provide some cat names for it?\\n', additional_kwargs={}, response_metadata={}), AIMessage(content='\\nAbsolutely! Here are some creative cat names: Whiskers, Chairman Meow, Purrlock Holmes, Catrick Swayze.\\n', additional_kwargs={}, response_metadata={}), HumanMessage(content='\\nHuman: I have recently adopted a fish. Can you provide some fish names for it?\\n', additional_kwargs={}, response_metadata={})])"
      ]
     },
     "execution_count": 78,
     "metadata": {},
     "output_type": "execute_result"
    }
   ],
   "source": [
    "chat_value"
   ]
  },
  {
   "cell_type": "code",
   "execution_count": 79,
   "id": "cd326c8d",
   "metadata": {},
   "outputs": [
    {
     "name": "stdout",
     "output_type": "stream",
     "text": [
      "human: \n",
      "Human: I have recently adopted a dog. Can you provide some dog names for it?\n",
      "\n",
      "\n",
      "ai: \n",
      "Sure! Here are some unique dog names: Bark Twain, Sir Waggington, Paws, Fido, Rex.\n",
      "\n",
      "\n",
      "human: \n",
      "Human: I have recently adopted a cat. Can you provide some cat names for it?\n",
      "\n",
      "\n",
      "ai: \n",
      "Absolutely! Here are some creative cat names: Whiskers, Chairman Meow, Purrlock Holmes, Catrick Swayze.\n",
      "\n",
      "\n",
      "human: \n",
      "Human: I have recently adopted a fish. Can you provide some fish names for it?\n",
      "\n",
      "\n"
     ]
    }
   ],
   "source": [
    "for msg in chat_value.messages:\n",
    "    print(f'{msg.type}: {msg.content}\\n')"
   ]
  },
  {
   "cell_type": "code",
   "execution_count": 80,
   "id": "129e046c",
   "metadata": {},
   "outputs": [],
   "source": [
    "response= chat.invoke(chat_value)"
   ]
  },
  {
   "cell_type": "code",
   "execution_count": 81,
   "id": "6d2c49d1",
   "metadata": {},
   "outputs": [
    {
     "name": "stdout",
     "output_type": "stream",
     "text": [
      "\n",
      "Of course! Here are some fun fish names: Bubbles, Gillbert, Finley, Splash, and Coral.\n"
     ]
    }
   ],
   "source": [
    "print(response.content)"
   ]
  },
  {
   "cell_type": "markdown",
   "id": "bf2d43ac",
   "metadata": {},
   "source": [
    "### String Output Parser"
   ]
  },
  {
   "cell_type": "code",
   "execution_count": 89,
   "id": "8d5d8d64",
   "metadata": {},
   "outputs": [],
   "source": [
    "from langchain_openai.chat_models import ChatOpenAI\n",
    "from langchain_core.messages import HumanMessage \n",
    "from langchain_core.output_parsers import StrOutputParser"
   ]
  },
  {
   "cell_type": "code",
   "execution_count": 88,
   "id": "5b7c8675",
   "metadata": {},
   "outputs": [],
   "source": [
    "message_h = HumanMessage(\n",
    "    content=\"Can you give me an interesting fact I probably didn't know about?\"\n",
    ")"
   ]
  },
  {
   "cell_type": "code",
   "execution_count": 91,
   "id": "1dd498d5",
   "metadata": {},
   "outputs": [],
   "source": [
    "response=chat.invoke([message_h])"
   ]
  },
  {
   "cell_type": "code",
   "execution_count": 92,
   "id": "3b24d033",
   "metadata": {},
   "outputs": [
    {
     "data": {
      "text/plain": [
       "AIMessage(content=\"Sure! Here's an intriguing fact: The shortest war in history lasted only 38 to 45 minutes. This conflict occurred on August 27, 1896, between the British Empire and the Sultanate of Zanzibar. Known as the Anglo-Zanzibar War, it was sparked when the Sultan of Zanzibar, who was not favored by the British, refused to step down. The British forces quickly overwhelmed the Sultan's defenses, leading to a swift victory.\", additional_kwargs={'refusal': None}, response_metadata={'token_usage': {'completion_tokens': 90, 'prompt_tokens': 20, 'total_tokens': 110, 'completion_tokens_details': {'accepted_prediction_tokens': 0, 'audio_tokens': 0, 'reasoning_tokens': 0, 'rejected_prediction_tokens': 0}, 'prompt_tokens_details': {'audio_tokens': 0, 'cached_tokens': 0}}, 'model_name': 'gpt-4o-2024-08-06', 'system_fingerprint': 'fp_f64f290af2', 'id': 'chatcmpl-CPmsKJNczMwqDIq4fH9mlHAYJmmdi', 'service_tier': 'default', 'finish_reason': 'stop', 'logprobs': None}, id='run--0248e4ae-d9fe-458f-9946-e1ee98167a99-0', usage_metadata={'input_tokens': 20, 'output_tokens': 90, 'total_tokens': 110, 'input_token_details': {'audio': 0, 'cache_read': 0}, 'output_token_details': {'audio': 0, 'reasoning': 0}})"
      ]
     },
     "execution_count": 92,
     "metadata": {},
     "output_type": "execute_result"
    }
   ],
   "source": [
    "response"
   ]
  },
  {
   "cell_type": "code",
   "execution_count": 93,
   "id": "a28a1a26",
   "metadata": {},
   "outputs": [],
   "source": [
    "str_output_parser=StrOutputParser()"
   ]
  },
  {
   "cell_type": "code",
   "execution_count": 96,
   "id": "06f1f871",
   "metadata": {},
   "outputs": [],
   "source": [
    "response_parsed=str_output_parser.invoke(response)"
   ]
  },
  {
   "cell_type": "code",
   "execution_count": 97,
   "id": "f2904a32",
   "metadata": {},
   "outputs": [
    {
     "data": {
      "text/plain": [
       "\"Sure! Here's an intriguing fact: The shortest war in history lasted only 38 to 45 minutes. This conflict occurred on August 27, 1896, between the British Empire and the Sultanate of Zanzibar. Known as the Anglo-Zanzibar War, it was sparked when the Sultan of Zanzibar, who was not favored by the British, refused to step down. The British forces quickly overwhelmed the Sultan's defenses, leading to a swift victory.\""
      ]
     },
     "execution_count": 97,
     "metadata": {},
     "output_type": "execute_result"
    }
   ],
   "source": [
    "response_parsed"
   ]
  },
  {
   "cell_type": "markdown",
   "id": "2bc941ad",
   "metadata": {},
   "source": [
    "### Comma-Separated List Output Parser"
   ]
  },
  {
   "cell_type": "code",
   "execution_count": 103,
   "id": "076a7003",
   "metadata": {},
   "outputs": [],
   "source": [
    "from langchain_openai.chat_models import ChatOpenAI \n",
    "from langchain_core.messages import HumanMessage \n",
    "from langchain_core.output_parsers import CommaSeparatedListOutputParser"
   ]
  },
  {
   "cell_type": "code",
   "execution_count": 104,
   "id": "c8abf614",
   "metadata": {},
   "outputs": [],
   "source": [
    "chat=ChatOpenAI(model_name=\"gpt-4o\", temperature=0.7,  max_tokens=1000)"
   ]
  },
  {
   "cell_type": "code",
   "execution_count": 105,
   "id": "6c2c594f",
   "metadata": {},
   "outputs": [],
   "source": [
    "message_h = HumanMessage(\n",
    "    content=\"Can you provide me with a list of five unique dog names?\"\n",
    ")"
   ]
  },
  {
   "cell_type": "code",
   "execution_count": 106,
   "id": "2fca5929",
   "metadata": {},
   "outputs": [],
   "source": [
    "response=chat.invoke([message_h])"
   ]
  },
  {
   "cell_type": "code",
   "execution_count": 107,
   "id": "3b841e9d",
   "metadata": {},
   "outputs": [
    {
     "data": {
      "text/plain": [
       "AIMessage(content='Certainly! Here are five unique dog names:\\n\\n1. Zephyr\\n2. Indigo\\n3. Solstice\\n4. Quasar\\n5. Calypso\\n\\nI hope one of these suits your furry friend!', additional_kwargs={'refusal': None}, response_metadata={'token_usage': {'completion_tokens': 44, 'prompt_tokens': 20, 'total_tokens': 64, 'completion_tokens_details': {'accepted_prediction_tokens': 0, 'audio_tokens': 0, 'reasoning_tokens': 0, 'rejected_prediction_tokens': 0}, 'prompt_tokens_details': {'audio_tokens': 0, 'cached_tokens': 0}}, 'model_name': 'gpt-4o-2024-08-06', 'system_fingerprint': 'fp_f33640a400', 'id': 'chatcmpl-CPmxfYBUruKXEWr6jPFIk5ULL5dM9', 'service_tier': 'default', 'finish_reason': 'stop', 'logprobs': None}, id='run--ce1e7edb-c7f8-4050-897e-fd47d5d9972a-0', usage_metadata={'input_tokens': 20, 'output_tokens': 44, 'total_tokens': 64, 'input_token_details': {'audio': 0, 'cache_read': 0}, 'output_token_details': {'audio': 0, 'reasoning': 0}})"
      ]
     },
     "execution_count": 107,
     "metadata": {},
     "output_type": "execute_result"
    }
   ],
   "source": [
    "response"
   ]
  },
  {
   "cell_type": "code",
   "execution_count": 108,
   "id": "f4856b4e",
   "metadata": {},
   "outputs": [
    {
     "name": "stdout",
     "output_type": "stream",
     "text": [
      "Certainly! Here are five unique dog names:\n",
      "\n",
      "1. Zephyr\n",
      "2. Indigo\n",
      "3. Solstice\n",
      "4. Quasar\n",
      "5. Calypso\n",
      "\n",
      "I hope one of these suits your furry friend!\n"
     ]
    }
   ],
   "source": [
    "print(response.content)"
   ]
  },
  {
   "cell_type": "code",
   "execution_count": 109,
   "id": "3901e029",
   "metadata": {},
   "outputs": [],
   "source": [
    "list_output_parser=CommaSeparatedListOutputParser()"
   ]
  },
  {
   "cell_type": "code",
   "execution_count": 110,
   "id": "05ba5f0f",
   "metadata": {},
   "outputs": [],
   "source": [
    "response_parsed = list_output_parser.invoke(response)"
   ]
  },
  {
   "cell_type": "code",
   "execution_count": 111,
   "id": "003689b9",
   "metadata": {},
   "outputs": [
    {
     "data": {
      "text/plain": [
       "['Certainly! Here are five unique dog names:',\n",
       " '1. Zephyr',\n",
       " '2. Indigo',\n",
       " '3. Solstice',\n",
       " '4. Quasar',\n",
       " '5. Calypso',\n",
       " 'I hope one of these suits your furry friend!']"
      ]
     },
     "execution_count": 111,
     "metadata": {},
     "output_type": "execute_result"
    }
   ],
   "source": [
    "response_parsed"
   ]
  },
  {
   "cell_type": "code",
   "execution_count": 112,
   "id": "524a9c4e",
   "metadata": {},
   "outputs": [
    {
     "name": "stdout",
     "output_type": "stream",
     "text": [
      "Your response should be a list of comma separated values, eg: `foo, bar, baz` or `foo,bar,baz`\n"
     ]
    }
   ],
   "source": [
    "print(list_output_parser.get_format_instructions())"
   ]
  }
 ],
 "metadata": {
  "kernelspec": {
   "display_name": ".venv",
   "language": "python",
   "name": "python3"
  },
  "language_info": {
   "codemirror_mode": {
    "name": "ipython",
    "version": 3
   },
   "file_extension": ".py",
   "mimetype": "text/x-python",
   "name": "python",
   "nbconvert_exporter": "python",
   "pygments_lexer": "ipython3",
   "version": "3.13.7"
  }
 },
 "nbformat": 4,
 "nbformat_minor": 5
}
