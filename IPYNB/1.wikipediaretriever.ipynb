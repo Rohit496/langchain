{
 "cells": [
  {
   "cell_type": "code",
   "execution_count": 1,
   "id": "cde98dc8",
   "metadata": {},
   "outputs": [
    {
     "name": "stdout",
     "output_type": "stream",
     "text": [
      "Requirement already satisfied: langchain in /Users/rohit/Workspace/Langchain/.venv/lib/python3.13/site-packages (0.3.27)\n",
      "Requirement already satisfied: chromadb in /Users/rohit/Workspace/Langchain/.venv/lib/python3.13/site-packages (1.1.1)\n",
      "Collecting faiss-cpu\n",
      "  Using cached faiss_cpu-1.12.0-cp313-cp313-macosx_14_0_arm64.whl.metadata (5.1 kB)\n",
      "Requirement already satisfied: openai in /Users/rohit/Workspace/Langchain/.venv/lib/python3.13/site-packages (2.1.0)\n",
      "Requirement already satisfied: tiktoken in /Users/rohit/Workspace/Langchain/.venv/lib/python3.13/site-packages (0.11.0)\n",
      "Requirement already satisfied: langchain_openai in /Users/rohit/Workspace/Langchain/.venv/lib/python3.13/site-packages (0.3.35)\n",
      "Requirement already satisfied: langchain-community in /Users/rohit/Workspace/Langchain/.venv/lib/python3.13/site-packages (0.3.31)\n",
      "Collecting wikipedia\n",
      "  Using cached wikipedia-1.4.0-py3-none-any.whl\n",
      "Requirement already satisfied: langchain-core<1.0.0,>=0.3.72 in /Users/rohit/Workspace/Langchain/.venv/lib/python3.13/site-packages (from langchain) (0.3.78)\n",
      "Requirement already satisfied: langchain-text-splitters<1.0.0,>=0.3.9 in /Users/rohit/Workspace/Langchain/.venv/lib/python3.13/site-packages (from langchain) (0.3.11)\n",
      "Requirement already satisfied: langsmith>=0.1.17 in /Users/rohit/Workspace/Langchain/.venv/lib/python3.13/site-packages (from langchain) (0.4.32)\n",
      "Requirement already satisfied: pydantic<3.0.0,>=2.7.4 in /Users/rohit/Workspace/Langchain/.venv/lib/python3.13/site-packages (from langchain) (2.11.10)\n",
      "Requirement already satisfied: SQLAlchemy<3,>=1.4 in /Users/rohit/Workspace/Langchain/.venv/lib/python3.13/site-packages (from langchain) (2.0.43)\n",
      "Requirement already satisfied: requests<3,>=2 in /Users/rohit/Workspace/Langchain/.venv/lib/python3.13/site-packages (from langchain) (2.32.5)\n",
      "Requirement already satisfied: PyYAML>=5.3 in /Users/rohit/Workspace/Langchain/.venv/lib/python3.13/site-packages (from langchain) (6.0.3)\n",
      "Requirement already satisfied: tenacity!=8.4.0,<10.0.0,>=8.1.0 in /Users/rohit/Workspace/Langchain/.venv/lib/python3.13/site-packages (from langchain-core<1.0.0,>=0.3.72->langchain) (9.1.2)\n",
      "Requirement already satisfied: jsonpatch<2.0.0,>=1.33.0 in /Users/rohit/Workspace/Langchain/.venv/lib/python3.13/site-packages (from langchain-core<1.0.0,>=0.3.72->langchain) (1.33)\n",
      "Requirement already satisfied: typing-extensions<5.0.0,>=4.7.0 in /Users/rohit/Workspace/Langchain/.venv/lib/python3.13/site-packages (from langchain-core<1.0.0,>=0.3.72->langchain) (4.15.0)\n",
      "Requirement already satisfied: packaging<26.0.0,>=23.2.0 in /Users/rohit/Workspace/Langchain/.venv/lib/python3.13/site-packages (from langchain-core<1.0.0,>=0.3.72->langchain) (25.0)\n",
      "Requirement already satisfied: jsonpointer>=1.9 in /Users/rohit/Workspace/Langchain/.venv/lib/python3.13/site-packages (from jsonpatch<2.0.0,>=1.33.0->langchain-core<1.0.0,>=0.3.72->langchain) (3.0.0)\n",
      "Requirement already satisfied: httpx<1,>=0.23.0 in /Users/rohit/Workspace/Langchain/.venv/lib/python3.13/site-packages (from langsmith>=0.1.17->langchain) (0.28.1)\n",
      "Requirement already satisfied: orjson>=3.9.14 in /Users/rohit/Workspace/Langchain/.venv/lib/python3.13/site-packages (from langsmith>=0.1.17->langchain) (3.11.3)\n",
      "Requirement already satisfied: requests-toolbelt>=1.0.0 in /Users/rohit/Workspace/Langchain/.venv/lib/python3.13/site-packages (from langsmith>=0.1.17->langchain) (1.0.0)\n",
      "Requirement already satisfied: zstandard>=0.23.0 in /Users/rohit/Workspace/Langchain/.venv/lib/python3.13/site-packages (from langsmith>=0.1.17->langchain) (0.25.0)\n",
      "Requirement already satisfied: anyio in /Users/rohit/Workspace/Langchain/.venv/lib/python3.13/site-packages (from httpx<1,>=0.23.0->langsmith>=0.1.17->langchain) (4.11.0)\n",
      "Requirement already satisfied: certifi in /Users/rohit/Workspace/Langchain/.venv/lib/python3.13/site-packages (from httpx<1,>=0.23.0->langsmith>=0.1.17->langchain) (2025.10.5)\n",
      "Requirement already satisfied: httpcore==1.* in /Users/rohit/Workspace/Langchain/.venv/lib/python3.13/site-packages (from httpx<1,>=0.23.0->langsmith>=0.1.17->langchain) (1.0.9)\n",
      "Requirement already satisfied: idna in /Users/rohit/Workspace/Langchain/.venv/lib/python3.13/site-packages (from httpx<1,>=0.23.0->langsmith>=0.1.17->langchain) (3.10)\n",
      "Requirement already satisfied: h11>=0.16 in /Users/rohit/Workspace/Langchain/.venv/lib/python3.13/site-packages (from httpcore==1.*->httpx<1,>=0.23.0->langsmith>=0.1.17->langchain) (0.16.0)\n",
      "Requirement already satisfied: annotated-types>=0.6.0 in /Users/rohit/Workspace/Langchain/.venv/lib/python3.13/site-packages (from pydantic<3.0.0,>=2.7.4->langchain) (0.7.0)\n",
      "Requirement already satisfied: pydantic-core==2.33.2 in /Users/rohit/Workspace/Langchain/.venv/lib/python3.13/site-packages (from pydantic<3.0.0,>=2.7.4->langchain) (2.33.2)\n",
      "Requirement already satisfied: typing-inspection>=0.4.0 in /Users/rohit/Workspace/Langchain/.venv/lib/python3.13/site-packages (from pydantic<3.0.0,>=2.7.4->langchain) (0.4.2)\n",
      "Requirement already satisfied: charset_normalizer<4,>=2 in /Users/rohit/Workspace/Langchain/.venv/lib/python3.13/site-packages (from requests<3,>=2->langchain) (3.4.3)\n",
      "Requirement already satisfied: urllib3<3,>=1.21.1 in /Users/rohit/Workspace/Langchain/.venv/lib/python3.13/site-packages (from requests<3,>=2->langchain) (2.5.0)\n",
      "Requirement already satisfied: build>=1.0.3 in /Users/rohit/Workspace/Langchain/.venv/lib/python3.13/site-packages (from chromadb) (1.3.0)\n",
      "Requirement already satisfied: pybase64>=1.4.1 in /Users/rohit/Workspace/Langchain/.venv/lib/python3.13/site-packages (from chromadb) (1.4.2)\n",
      "Requirement already satisfied: uvicorn>=0.18.3 in /Users/rohit/Workspace/Langchain/.venv/lib/python3.13/site-packages (from uvicorn[standard]>=0.18.3->chromadb) (0.37.0)\n",
      "Requirement already satisfied: numpy>=1.22.5 in /Users/rohit/Workspace/Langchain/.venv/lib/python3.13/site-packages (from chromadb) (2.3.3)\n",
      "Requirement already satisfied: posthog<6.0.0,>=2.4.0 in /Users/rohit/Workspace/Langchain/.venv/lib/python3.13/site-packages (from chromadb) (5.4.0)\n",
      "Requirement already satisfied: onnxruntime>=1.14.1 in /Users/rohit/Workspace/Langchain/.venv/lib/python3.13/site-packages (from chromadb) (1.23.1)\n",
      "Requirement already satisfied: opentelemetry-api>=1.2.0 in /Users/rohit/Workspace/Langchain/.venv/lib/python3.13/site-packages (from chromadb) (1.37.0)\n",
      "Requirement already satisfied: opentelemetry-exporter-otlp-proto-grpc>=1.2.0 in /Users/rohit/Workspace/Langchain/.venv/lib/python3.13/site-packages (from chromadb) (1.37.0)\n",
      "Requirement already satisfied: opentelemetry-sdk>=1.2.0 in /Users/rohit/Workspace/Langchain/.venv/lib/python3.13/site-packages (from chromadb) (1.37.0)\n",
      "Requirement already satisfied: tokenizers>=0.13.2 in /Users/rohit/Workspace/Langchain/.venv/lib/python3.13/site-packages (from chromadb) (0.22.1)\n",
      "Requirement already satisfied: pypika>=0.48.9 in /Users/rohit/Workspace/Langchain/.venv/lib/python3.13/site-packages (from chromadb) (0.48.9)\n",
      "Requirement already satisfied: tqdm>=4.65.0 in /Users/rohit/Workspace/Langchain/.venv/lib/python3.13/site-packages (from chromadb) (4.67.1)\n",
      "Requirement already satisfied: overrides>=7.3.1 in /Users/rohit/Workspace/Langchain/.venv/lib/python3.13/site-packages (from chromadb) (7.7.0)\n",
      "Requirement already satisfied: importlib-resources in /Users/rohit/Workspace/Langchain/.venv/lib/python3.13/site-packages (from chromadb) (6.5.2)\n",
      "Requirement already satisfied: grpcio>=1.58.0 in /Users/rohit/Workspace/Langchain/.venv/lib/python3.13/site-packages (from chromadb) (1.75.1)\n",
      "Requirement already satisfied: bcrypt>=4.0.1 in /Users/rohit/Workspace/Langchain/.venv/lib/python3.13/site-packages (from chromadb) (5.0.0)\n",
      "Requirement already satisfied: typer>=0.9.0 in /Users/rohit/Workspace/Langchain/.venv/lib/python3.13/site-packages (from chromadb) (0.19.2)\n",
      "Requirement already satisfied: kubernetes>=28.1.0 in /Users/rohit/Workspace/Langchain/.venv/lib/python3.13/site-packages (from chromadb) (33.1.0)\n",
      "Requirement already satisfied: mmh3>=4.0.1 in /Users/rohit/Workspace/Langchain/.venv/lib/python3.13/site-packages (from chromadb) (5.2.0)\n",
      "Requirement already satisfied: rich>=10.11.0 in /Users/rohit/Workspace/Langchain/.venv/lib/python3.13/site-packages (from chromadb) (14.2.0)\n",
      "Requirement already satisfied: jsonschema>=4.19.0 in /Users/rohit/Workspace/Langchain/.venv/lib/python3.13/site-packages (from chromadb) (4.25.1)\n",
      "Requirement already satisfied: six>=1.5 in /Users/rohit/Workspace/Langchain/.venv/lib/python3.13/site-packages (from posthog<6.0.0,>=2.4.0->chromadb) (1.17.0)\n",
      "Requirement already satisfied: python-dateutil>=2.2 in /Users/rohit/Workspace/Langchain/.venv/lib/python3.13/site-packages (from posthog<6.0.0,>=2.4.0->chromadb) (2.9.0.post0)\n",
      "Requirement already satisfied: backoff>=1.10.0 in /Users/rohit/Workspace/Langchain/.venv/lib/python3.13/site-packages (from posthog<6.0.0,>=2.4.0->chromadb) (2.2.1)\n",
      "Requirement already satisfied: distro>=1.5.0 in /Users/rohit/Workspace/Langchain/.venv/lib/python3.13/site-packages (from posthog<6.0.0,>=2.4.0->chromadb) (1.9.0)\n",
      "Requirement already satisfied: jiter<1,>=0.4.0 in /Users/rohit/Workspace/Langchain/.venv/lib/python3.13/site-packages (from openai) (0.11.0)\n",
      "Requirement already satisfied: sniffio in /Users/rohit/Workspace/Langchain/.venv/lib/python3.13/site-packages (from openai) (1.3.1)\n",
      "Requirement already satisfied: regex>=2022.1.18 in /Users/rohit/Workspace/Langchain/.venv/lib/python3.13/site-packages (from tiktoken) (2025.9.18)\n",
      "Requirement already satisfied: aiohttp<4.0.0,>=3.8.3 in /Users/rohit/Workspace/Langchain/.venv/lib/python3.13/site-packages (from langchain-community) (3.13.0)\n",
      "Requirement already satisfied: dataclasses-json<0.7.0,>=0.6.7 in /Users/rohit/Workspace/Langchain/.venv/lib/python3.13/site-packages (from langchain-community) (0.6.7)\n",
      "Requirement already satisfied: pydantic-settings<3.0.0,>=2.10.1 in /Users/rohit/Workspace/Langchain/.venv/lib/python3.13/site-packages (from langchain-community) (2.11.0)\n",
      "Requirement already satisfied: httpx-sse<1.0.0,>=0.4.0 in /Users/rohit/Workspace/Langchain/.venv/lib/python3.13/site-packages (from langchain-community) (0.4.3)\n",
      "Requirement already satisfied: aiohappyeyeballs>=2.5.0 in /Users/rohit/Workspace/Langchain/.venv/lib/python3.13/site-packages (from aiohttp<4.0.0,>=3.8.3->langchain-community) (2.6.1)\n",
      "Requirement already satisfied: aiosignal>=1.4.0 in /Users/rohit/Workspace/Langchain/.venv/lib/python3.13/site-packages (from aiohttp<4.0.0,>=3.8.3->langchain-community) (1.4.0)\n",
      "Requirement already satisfied: attrs>=17.3.0 in /Users/rohit/Workspace/Langchain/.venv/lib/python3.13/site-packages (from aiohttp<4.0.0,>=3.8.3->langchain-community) (25.4.0)\n",
      "Requirement already satisfied: frozenlist>=1.1.1 in /Users/rohit/Workspace/Langchain/.venv/lib/python3.13/site-packages (from aiohttp<4.0.0,>=3.8.3->langchain-community) (1.8.0)\n",
      "Requirement already satisfied: multidict<7.0,>=4.5 in /Users/rohit/Workspace/Langchain/.venv/lib/python3.13/site-packages (from aiohttp<4.0.0,>=3.8.3->langchain-community) (6.7.0)\n",
      "Requirement already satisfied: propcache>=0.2.0 in /Users/rohit/Workspace/Langchain/.venv/lib/python3.13/site-packages (from aiohttp<4.0.0,>=3.8.3->langchain-community) (0.4.1)\n",
      "Requirement already satisfied: yarl<2.0,>=1.17.0 in /Users/rohit/Workspace/Langchain/.venv/lib/python3.13/site-packages (from aiohttp<4.0.0,>=3.8.3->langchain-community) (1.22.0)\n",
      "Requirement already satisfied: marshmallow<4.0.0,>=3.18.0 in /Users/rohit/Workspace/Langchain/.venv/lib/python3.13/site-packages (from dataclasses-json<0.7.0,>=0.6.7->langchain-community) (3.26.1)\n",
      "Requirement already satisfied: typing-inspect<1,>=0.4.0 in /Users/rohit/Workspace/Langchain/.venv/lib/python3.13/site-packages (from dataclasses-json<0.7.0,>=0.6.7->langchain-community) (0.9.0)\n",
      "Requirement already satisfied: python-dotenv>=0.21.0 in /Users/rohit/Workspace/Langchain/.venv/lib/python3.13/site-packages (from pydantic-settings<3.0.0,>=2.10.1->langchain-community) (1.1.1)\n",
      "Requirement already satisfied: mypy-extensions>=0.3.0 in /Users/rohit/Workspace/Langchain/.venv/lib/python3.13/site-packages (from typing-inspect<1,>=0.4.0->dataclasses-json<0.7.0,>=0.6.7->langchain-community) (1.1.0)\n",
      "Requirement already satisfied: beautifulsoup4 in /Users/rohit/Workspace/Langchain/.venv/lib/python3.13/site-packages (from wikipedia) (4.14.2)\n",
      "Requirement already satisfied: pyproject_hooks in /Users/rohit/Workspace/Langchain/.venv/lib/python3.13/site-packages (from build>=1.0.3->chromadb) (1.2.0)\n",
      "Requirement already satisfied: jsonschema-specifications>=2023.03.6 in /Users/rohit/Workspace/Langchain/.venv/lib/python3.13/site-packages (from jsonschema>=4.19.0->chromadb) (2025.9.1)\n",
      "Requirement already satisfied: referencing>=0.28.4 in /Users/rohit/Workspace/Langchain/.venv/lib/python3.13/site-packages (from jsonschema>=4.19.0->chromadb) (0.36.2)\n",
      "Requirement already satisfied: rpds-py>=0.7.1 in /Users/rohit/Workspace/Langchain/.venv/lib/python3.13/site-packages (from jsonschema>=4.19.0->chromadb) (0.27.1)\n",
      "Requirement already satisfied: google-auth>=1.0.1 in /Users/rohit/Workspace/Langchain/.venv/lib/python3.13/site-packages (from kubernetes>=28.1.0->chromadb) (2.41.1)\n",
      "Requirement already satisfied: websocket-client!=0.40.0,!=0.41.*,!=0.42.*,>=0.32.0 in /Users/rohit/Workspace/Langchain/.venv/lib/python3.13/site-packages (from kubernetes>=28.1.0->chromadb) (1.9.0)\n",
      "Requirement already satisfied: requests-oauthlib in /Users/rohit/Workspace/Langchain/.venv/lib/python3.13/site-packages (from kubernetes>=28.1.0->chromadb) (2.0.0)\n",
      "Requirement already satisfied: oauthlib>=3.2.2 in /Users/rohit/Workspace/Langchain/.venv/lib/python3.13/site-packages (from kubernetes>=28.1.0->chromadb) (3.3.1)\n",
      "Requirement already satisfied: durationpy>=0.7 in /Users/rohit/Workspace/Langchain/.venv/lib/python3.13/site-packages (from kubernetes>=28.1.0->chromadb) (0.10)\n",
      "Requirement already satisfied: cachetools<7.0,>=2.0.0 in /Users/rohit/Workspace/Langchain/.venv/lib/python3.13/site-packages (from google-auth>=1.0.1->kubernetes>=28.1.0->chromadb) (6.2.0)\n",
      "Requirement already satisfied: pyasn1-modules>=0.2.1 in /Users/rohit/Workspace/Langchain/.venv/lib/python3.13/site-packages (from google-auth>=1.0.1->kubernetes>=28.1.0->chromadb) (0.4.2)\n",
      "Requirement already satisfied: rsa<5,>=3.1.4 in /Users/rohit/Workspace/Langchain/.venv/lib/python3.13/site-packages (from google-auth>=1.0.1->kubernetes>=28.1.0->chromadb) (4.9.1)\n",
      "Requirement already satisfied: pyasn1>=0.1.3 in /Users/rohit/Workspace/Langchain/.venv/lib/python3.13/site-packages (from rsa<5,>=3.1.4->google-auth>=1.0.1->kubernetes>=28.1.0->chromadb) (0.6.1)\n",
      "Requirement already satisfied: coloredlogs in /Users/rohit/Workspace/Langchain/.venv/lib/python3.13/site-packages (from onnxruntime>=1.14.1->chromadb) (15.0.1)\n",
      "Requirement already satisfied: flatbuffers in /Users/rohit/Workspace/Langchain/.venv/lib/python3.13/site-packages (from onnxruntime>=1.14.1->chromadb) (25.9.23)\n",
      "Requirement already satisfied: protobuf in /Users/rohit/Workspace/Langchain/.venv/lib/python3.13/site-packages (from onnxruntime>=1.14.1->chromadb) (5.29.5)\n",
      "Requirement already satisfied: sympy in /Users/rohit/Workspace/Langchain/.venv/lib/python3.13/site-packages (from onnxruntime>=1.14.1->chromadb) (1.13.3)\n",
      "Requirement already satisfied: importlib-metadata<8.8.0,>=6.0 in /Users/rohit/Workspace/Langchain/.venv/lib/python3.13/site-packages (from opentelemetry-api>=1.2.0->chromadb) (8.7.0)\n",
      "Requirement already satisfied: zipp>=3.20 in /Users/rohit/Workspace/Langchain/.venv/lib/python3.13/site-packages (from importlib-metadata<8.8.0,>=6.0->opentelemetry-api>=1.2.0->chromadb) (3.23.0)\n",
      "Requirement already satisfied: googleapis-common-protos~=1.57 in /Users/rohit/Workspace/Langchain/.venv/lib/python3.13/site-packages (from opentelemetry-exporter-otlp-proto-grpc>=1.2.0->chromadb) (1.70.0)\n",
      "Requirement already satisfied: opentelemetry-exporter-otlp-proto-common==1.37.0 in /Users/rohit/Workspace/Langchain/.venv/lib/python3.13/site-packages (from opentelemetry-exporter-otlp-proto-grpc>=1.2.0->chromadb) (1.37.0)\n",
      "Requirement already satisfied: opentelemetry-proto==1.37.0 in /Users/rohit/Workspace/Langchain/.venv/lib/python3.13/site-packages (from opentelemetry-exporter-otlp-proto-grpc>=1.2.0->chromadb) (1.37.0)\n",
      "Requirement already satisfied: opentelemetry-semantic-conventions==0.58b0 in /Users/rohit/Workspace/Langchain/.venv/lib/python3.13/site-packages (from opentelemetry-sdk>=1.2.0->chromadb) (0.58b0)\n",
      "Requirement already satisfied: markdown-it-py>=2.2.0 in /Users/rohit/Workspace/Langchain/.venv/lib/python3.13/site-packages (from rich>=10.11.0->chromadb) (4.0.0)\n",
      "Requirement already satisfied: pygments<3.0.0,>=2.13.0 in /Users/rohit/Workspace/Langchain/.venv/lib/python3.13/site-packages (from rich>=10.11.0->chromadb) (2.19.2)\n",
      "Requirement already satisfied: mdurl~=0.1 in /Users/rohit/Workspace/Langchain/.venv/lib/python3.13/site-packages (from markdown-it-py>=2.2.0->rich>=10.11.0->chromadb) (0.1.2)\n",
      "Requirement already satisfied: huggingface-hub<2.0,>=0.16.4 in /Users/rohit/Workspace/Langchain/.venv/lib/python3.13/site-packages (from tokenizers>=0.13.2->chromadb) (0.35.3)\n",
      "Requirement already satisfied: filelock in /Users/rohit/Workspace/Langchain/.venv/lib/python3.13/site-packages (from huggingface-hub<2.0,>=0.16.4->tokenizers>=0.13.2->chromadb) (3.19.1)\n",
      "Requirement already satisfied: fsspec>=2023.5.0 in /Users/rohit/Workspace/Langchain/.venv/lib/python3.13/site-packages (from huggingface-hub<2.0,>=0.16.4->tokenizers>=0.13.2->chromadb) (2025.9.0)\n",
      "Requirement already satisfied: hf-xet<2.0.0,>=1.1.3 in /Users/rohit/Workspace/Langchain/.venv/lib/python3.13/site-packages (from huggingface-hub<2.0,>=0.16.4->tokenizers>=0.13.2->chromadb) (1.1.10)\n",
      "Requirement already satisfied: click>=8.0.0 in /Users/rohit/Workspace/Langchain/.venv/lib/python3.13/site-packages (from typer>=0.9.0->chromadb) (8.3.0)\n",
      "Requirement already satisfied: shellingham>=1.3.0 in /Users/rohit/Workspace/Langchain/.venv/lib/python3.13/site-packages (from typer>=0.9.0->chromadb) (1.5.4)\n",
      "Requirement already satisfied: httptools>=0.6.3 in /Users/rohit/Workspace/Langchain/.venv/lib/python3.13/site-packages (from uvicorn[standard]>=0.18.3->chromadb) (0.7.1)\n",
      "Requirement already satisfied: uvloop>=0.15.1 in /Users/rohit/Workspace/Langchain/.venv/lib/python3.13/site-packages (from uvicorn[standard]>=0.18.3->chromadb) (0.21.0)\n",
      "Requirement already satisfied: watchfiles>=0.13 in /Users/rohit/Workspace/Langchain/.venv/lib/python3.13/site-packages (from uvicorn[standard]>=0.18.3->chromadb) (1.1.1)\n",
      "Requirement already satisfied: websockets>=10.4 in /Users/rohit/Workspace/Langchain/.venv/lib/python3.13/site-packages (from uvicorn[standard]>=0.18.3->chromadb) (15.0.1)\n",
      "Requirement already satisfied: soupsieve>1.2 in /Users/rohit/Workspace/Langchain/.venv/lib/python3.13/site-packages (from beautifulsoup4->wikipedia) (2.8)\n",
      "Requirement already satisfied: humanfriendly>=9.1 in /Users/rohit/Workspace/Langchain/.venv/lib/python3.13/site-packages (from coloredlogs->onnxruntime>=1.14.1->chromadb) (10.0)\n",
      "Requirement already satisfied: mpmath<1.4,>=1.1.0 in /Users/rohit/Workspace/Langchain/.venv/lib/python3.13/site-packages (from sympy->onnxruntime>=1.14.1->chromadb) (1.3.0)\n",
      "Using cached faiss_cpu-1.12.0-cp313-cp313-macosx_14_0_arm64.whl (3.4 MB)\n",
      "Installing collected packages: faiss-cpu, wikipedia\n",
      "\u001b[2K   \u001b[90m━━━━━━━━━━━━━━━━━━━━━━━━━━━━━━━━━━━━━━━━\u001b[0m \u001b[32m2/2\u001b[0m [wikipedia]\n",
      "\u001b[1A\u001b[2KSuccessfully installed faiss-cpu-1.12.0 wikipedia-1.4.0\n"
     ]
    }
   ],
   "source": [
    "!pip install langchain chromadb faiss-cpu openai tiktoken langchain_openai langchain-community wikipedia"
   ]
  },
  {
   "cell_type": "code",
   "execution_count": 2,
   "id": "dfd18227",
   "metadata": {},
   "outputs": [],
   "source": [
    "from langchain_community.retrievers import WikipediaRetriever"
   ]
  },
  {
   "cell_type": "code",
   "execution_count": 3,
   "id": "7644867f",
   "metadata": {},
   "outputs": [],
   "source": [
    "# Initialize the retriever (optional: set language and top_k)\n",
    "retriever = WikipediaRetriever(top_k_results=2, lang=\"en\")"
   ]
  },
  {
   "cell_type": "code",
   "execution_count": 6,
   "id": "238185a3",
   "metadata": {},
   "outputs": [],
   "source": [
    "# Define your query\n",
    "query = (\n",
    "    \"the prime minister of india and his political career\"\n",
    ")\n",
    "\n",
    "# Get relevant Wikipedia documents\n",
    "docs = retriever.invoke(query)"
   ]
  },
  {
   "cell_type": "code",
   "execution_count": 9,
   "id": "13e98843",
   "metadata": {},
   "outputs": [
    {
     "data": {
      "text/plain": [
       "[Document(metadata={'title': 'Prime Minister of India', 'summary': \"The prime minister of India (ISO: Bhārat kē Pradhānamantrī) is the head of government of the Republic of India. Executive authority is vested in the prime minister and his chosen Council of Ministers, despite the president of India being the nominal head of the executive.  The prime minister has to be a member of one of the houses of bicameral Parliament of India, alongside heading the respective house. The prime minister and the cabinet are at all times responsible to the Lok Sabha.\\nThe sitting prime minister ranks third in the Order of Precedence of India and is appointed by the president of India; however, the prime minister has to enjoy the confidence of the majority of Lok Sabha members, who are directly elected every five years, lest the prime minister shall resign. The prime minister can be a member of the Lok Sabha or the Rajya Sabha, the upper house of the parliament. The prime minister controls the selection and dismissal of members of the Union Council of Ministers and allocation of posts to members within the government.\\nThe longest-serving prime minister was the first prime minister, Jawaharlal Nehru, whose tenure lasted 16 years and 286 days. His premiership was followed by Lal Bahadur Shastri's short tenure and Indira Gandhi's 11- and 4-year-long tenures, with both politicians belonging to the Indian National Congress. After Indira Gandhi's assassination, her son Rajiv Gandhi took charge until 1989, when a decade with five unstable governments began. This was followed by the full terms of P. V. Narasimha Rao, Atal Bihari Vajpayee, Manmohan Singh, and Narendra Modi, who is the current prime minister of India, serving since 26 May 2014. He is the first non-Congress leader to win three consecutive general elections and secure a third successive term (2014, 2019, 2024). The first prime minister to do so was Jawaharlal Nehru, who won the general elections of 1952, 1957, and 1962.\", 'source': 'https://en.wikipedia.org/wiki/Prime_Minister_of_India'}, page_content=\"The prime minister of India (ISO: Bhārat kē Pradhānamantrī) is the head of government of the Republic of India. Executive authority is vested in the prime minister and his chosen Council of Ministers, despite the president of India being the nominal head of the executive.  The prime minister has to be a member of one of the houses of bicameral Parliament of India, alongside heading the respective house. The prime minister and the cabinet are at all times responsible to the Lok Sabha.\\nThe sitting prime minister ranks third in the Order of Precedence of India and is appointed by the president of India; however, the prime minister has to enjoy the confidence of the majority of Lok Sabha members, who are directly elected every five years, lest the prime minister shall resign. The prime minister can be a member of the Lok Sabha or the Rajya Sabha, the upper house of the parliament. The prime minister controls the selection and dismissal of members of the Union Council of Ministers and allocation of posts to members within the government.\\nThe longest-serving prime minister was the first prime minister, Jawaharlal Nehru, whose tenure lasted 16 years and 286 days. His premiership was followed by Lal Bahadur Shastri's short tenure and Indira Gandhi's 11- and 4-year-long tenures, with both politicians belonging to the Indian National Congress. After Indira Gandhi's assassination, her son Rajiv Gandhi took charge until 1989, when a decade with five unstable governments began. This was followed by the full terms of P. V. Narasimha Rao, Atal Bihari Vajpayee, Manmohan Singh, and Narendra Modi, who is the current prime minister of India, serving since 26 May 2014. He is the first non-Congress leader to win three consecutive general elections and secure a third successive term (2014, 2019, 2024). The first prime minister to do so was Jawaharlal Nehru, who won the general elections of 1952, 1957, and 1962.\\n\\n\\n== Origins and history ==\\nIndia follows a parliamentary system in which the prime minister is the presiding head of the government and chief of the executive of the government. In such systems, the head of state, or, the head of state's official representative (i.e., the monarch, president, or governor-general) usually holds a purely ceremonial position and acts, on most matters, only on the advice of the prime minister.\\nThe prime minister must become a member of parliament within six months of beginning their tenure, if they are not one already. A prime minister is expected to work with other central ministers to ensure the passage of bills by the parliament.\\n\\n\\n=== 1947–1984 ===\\nSince 1947, there have been 14 different prime ministers. The first few decades after 1947 saw the Indian National Congress' (INC) near complete domination over the political map of India. India's first prime minister, Jawaharlal Nehru, took oath on 15 August 1947. Nehru went on to serve as prime minister for 17 consecutive years, winning four general elections in the process. His tenure ended in May 1964, on his death. After the death of Nehru, Lal Bahadur Shastri, a former home minister and a leader of the Congress party, ascended to the position of prime minister. Shastri's tenure saw the Indo-Pakistani War of 1965. Shashtri subsequently died of a reported heart attack in Tashkent, after signing the Tashkent Declaration.\\nAfter Shastri, Indira Gandhi, Nehru's daughter, was elected as the country's third prime minister. The first, and to date, the only, woman to hold the post, Indira's first term in office lasted 11 years, in which she took steps such as nationalisation of banks; end of allowances and political posts, which were received by members of the royal families of the erstwhile princely states of the British Indian Empire. In addition, events such as the Indo-Pakistani War of 1971; the establishment of a sovereign Bangladesh; accession of Sikkim to India, through a referendum in 1975; and India's first nuclear test in Pokhran occurred during Indira's fir\"),\n",
       " Document(metadata={'title': 'Jawaharlal Nehru', 'summary': 'Jawaharlal Nehru (14 November 1889 – 27 May 1964) was an Indian anti-colonial nationalist, secular humanist, social democrat, lawyer and statesman who was a central figure in India during the middle of the 20th century. Nehru was a principal leader of the Indian nationalist movement in the 1930s and 1940s. Upon India\\'s independence in 1947, he served as the country\\'s first prime minister for 16 years. Nehru promoted parliamentary democracy, secularism, and science and technology during the 1950s, powerfully influencing India\\'s arc as a modern nation. In international affairs, he steered India clear of the two blocs of the Cold War. A well-regarded author, he wrote books such as Letters from a Father to His Daughter (1929), An Autobiography (1936) and The Discovery of India (1946), that have been read around the world.\\nThe son of Motilal Nehru, a prominent lawyer and Indian nationalist, Jawaharlal Nehru was educated in England—at Harrow School and Trinity College, Cambridge, and trained in the law at the Inner Temple. He became a barrister, returned to India, enrolled at the Allahabad High Court and gradually became interested in national politics, which eventually became a full-time occupation. He joined the Indian National Congress, rose to become the leader of a progressive faction during the 1920s, and eventually of the Congress, receiving the support of Mahatma Gandhi, who was to designate Nehru as his political heir. As Congress president in 1929, Nehru called for complete independence from the British Raj.\\nNehru and the Congress dominated Indian politics during the 1930s. Nehru promoted the idea of the secular nation-state in the 1937 provincial elections, allowing the Congress to sweep the elections and form governments in several provinces. In September 1939, the Congress ministries resigned to protest Viceroy Lord Linlithgow\\'s decision to join the war without consulting them. After the All India Congress Committee\\'s Quit India Resolution of 8 August 1942, senior Congress leaders were imprisoned, and for a time, the organisation was suppressed. Nehru, who had reluctantly heeded Gandhi\\'s call for immediate independence, and had desired instead to support the Allied war effort during World War II, came out of a lengthy prison term to a much altered political landscape. Under Muhammad Ali Jinnah, the Muslim League had come to dominate Muslim politics in the interim. In the 1946 provincial elections, Congress won the elections, but the League won all the seats reserved for Muslims, which the British interpreted as a clear mandate for Pakistan in some form. Nehru became the interim prime minister of India in September 1946 and the League joined his government with some hesitancy in October 1946.\\nUpon India\\'s independence on 15 August 1947, Nehru gave a critically acclaimed speech, \"Tryst with Destiny\"; he was sworn in as the Dominion of India\\'s prime minister and raised the Indian flag at the Red Fort in Delhi. On 26 January 1950, when India became a republic within the Commonwealth of Nations, Nehru became the Republic of India\\'s first prime minister. He embarked on an ambitious economic, social, and political reform programme. Nehru promoted a pluralistic multi-party democracy. In foreign affairs, he led the establishment the Non-Aligned Movement, a group of nations that did not seek membership in the two main ideological blocs of the Cold War. Under Nehru\\'s leadership, the Congress dominated national and state-level politics and won elections in 1951, 1957 and 1962. He died in office from a heart attack in 1964. His birthday is celebrated as Children\\'s Day in India.', 'source': 'https://en.wikipedia.org/wiki/Jawaharlal_Nehru'}, page_content='Jawaharlal Nehru (14 November 1889 – 27 May 1964) was an Indian anti-colonial nationalist, secular humanist, social democrat, lawyer and statesman who was a central figure in India during the middle of the 20th century. Nehru was a principal leader of the Indian nationalist movement in the 1930s and 1940s. Upon India\\'s independence in 1947, he served as the country\\'s first prime minister for 16 years. Nehru promoted parliamentary democracy, secularism, and science and technology during the 1950s, powerfully influencing India\\'s arc as a modern nation. In international affairs, he steered India clear of the two blocs of the Cold War. A well-regarded author, he wrote books such as Letters from a Father to His Daughter (1929), An Autobiography (1936) and The Discovery of India (1946), that have been read around the world.\\nThe son of Motilal Nehru, a prominent lawyer and Indian nationalist, Jawaharlal Nehru was educated in England—at Harrow School and Trinity College, Cambridge, and trained in the law at the Inner Temple. He became a barrister, returned to India, enrolled at the Allahabad High Court and gradually became interested in national politics, which eventually became a full-time occupation. He joined the Indian National Congress, rose to become the leader of a progressive faction during the 1920s, and eventually of the Congress, receiving the support of Mahatma Gandhi, who was to designate Nehru as his political heir. As Congress president in 1929, Nehru called for complete independence from the British Raj.\\nNehru and the Congress dominated Indian politics during the 1930s. Nehru promoted the idea of the secular nation-state in the 1937 provincial elections, allowing the Congress to sweep the elections and form governments in several provinces. In September 1939, the Congress ministries resigned to protest Viceroy Lord Linlithgow\\'s decision to join the war without consulting them. After the All India Congress Committee\\'s Quit India Resolution of 8 August 1942, senior Congress leaders were imprisoned, and for a time, the organisation was suppressed. Nehru, who had reluctantly heeded Gandhi\\'s call for immediate independence, and had desired instead to support the Allied war effort during World War II, came out of a lengthy prison term to a much altered political landscape. Under Muhammad Ali Jinnah, the Muslim League had come to dominate Muslim politics in the interim. In the 1946 provincial elections, Congress won the elections, but the League won all the seats reserved for Muslims, which the British interpreted as a clear mandate for Pakistan in some form. Nehru became the interim prime minister of India in September 1946 and the League joined his government with some hesitancy in October 1946.\\nUpon India\\'s independence on 15 August 1947, Nehru gave a critically acclaimed speech, \"Tryst with Destiny\"; he was sworn in as the Dominion of India\\'s prime minister and raised the Indian flag at the Red Fort in Delhi. On 26 January 1950, when India became a republic within the Commonwealth of Nations, Nehru became the Republic of India\\'s first prime minister. He embarked on an ambitious economic, social, and political reform programme. Nehru promoted a pluralistic multi-party democracy. In foreign affairs, he led the establishment the Non-Aligned Movement, a group of nations that did not seek membership in the two main ideological blocs of the Cold War. Under Nehru\\'s leadership, the Congress dominated national and state-level politics and won elections in 1951, 1957 and 1962. He died in office from a heart attack in 1964. His birthday is celebrated as Children\\'s Day in India.\\n\\n\\n== Early life and career (1889–1912) ==\\n\\n\\n=== Birth and family background ===\\n\\nJawaharlal Nehru was born on 14 November 1889 in Allahabad in British India to mother Swarup Rani née Thussu (1868–1938) and father Motilal Nehru (1861–1931). Both parents belonged to the community of Kashmiri Pandits, or Brahmins originally from the Kashmir valley. Motilal, a se')]"
      ]
     },
     "execution_count": 9,
     "metadata": {},
     "output_type": "execute_result"
    }
   ],
   "source": [
    "docs"
   ]
  },
  {
   "cell_type": "code",
   "execution_count": 8,
   "id": "40d78d1e",
   "metadata": {},
   "outputs": [
    {
     "name": "stdout",
     "output_type": "stream",
     "text": [
      "\n",
      "--- Result 1 ---\n",
      "Content:\n",
      "The prime minister of India (ISO: Bhārat kē Pradhānamantrī) is the head of government of the Republic of India. Executive authority is vested in the prime minister and his chosen Council of Ministers, despite the president of India being the nominal head of the executive.  The prime minister has to be a member of one of the houses of bicameral Parliament of India, alongside heading the respective house. The prime minister and the cabinet are at all times responsible to the Lok Sabha.\n",
      "The sitting prime minister ranks third in the Order of Precedence of India and is appointed by the president of India; however, the prime minister has to enjoy the confidence of the majority of Lok Sabha members, who are directly elected every five years, lest the prime minister shall resign. The prime minister can be a member of the Lok Sabha or the Rajya Sabha, the upper house of the parliament. The prime minister controls the selection and dismissal of members of the Union Council of Ministers and allocation of posts to members within the government.\n",
      "The longest-serving prime minister was the first prime minister, Jawaharlal Nehru, whose tenure lasted 16 years and 286 days. His premiership was followed by Lal Bahadur Shastri's short tenure and Indira Gandhi's 11- and 4-year-long tenures, with both politicians belonging to the Indian National Congress. After Indira Gandhi's assassination, her son Rajiv Gandhi took charge until 1989, when a decade with five unstable governments began. This was followed by the full terms of P. V. Narasimha Rao, Atal Bihari Vajpayee, Manmohan Singh, and Narendra Modi, who is the current prime minister of India, serving since 26 May 2014. He is the first non-Congress leader to win three consecutive general elections and secure a third successive term (2014, 2019, 2024). The first prime minister to do so was Jawaharlal Nehru, who won the general elections of 1952, 1957, and 1962.\n",
      "\n",
      "\n",
      "== Origins and history ==\n",
      "India follows a parliamentary system in which the prime minister is the presiding head of the government and chief of the executive of the government. In such systems, the head of state, or, the head of state's official representative (i.e., the monarch, president, or governor-general) usually holds a purely ceremonial position and acts, on most matters, only on the advice of the prime minister.\n",
      "The prime minister must become a member of parliament within six months of beginning their tenure, if they are not one already. A prime minister is expected to work with other central ministers to ensure the passage of bills by the parliament.\n",
      "\n",
      "\n",
      "=== 1947–1984 ===\n",
      "Since 1947, there have been 14 different prime ministers. The first few decades after 1947 saw the Indian National Congress' (INC) near complete domination over the political map of India. India's first prime minister, Jawaharlal Nehru, took oath on 15 August 1947. Nehru went on to serve as prime minister for 17 consecutive years, winning four general elections in the process. His tenure ended in May 1964, on his death. After the death of Nehru, Lal Bahadur Shastri, a former home minister and a leader of the Congress party, ascended to the position of prime minister. Shastri's tenure saw the Indo-Pakistani War of 1965. Shashtri subsequently died of a reported heart attack in Tashkent, after signing the Tashkent Declaration.\n",
      "After Shastri, Indira Gandhi, Nehru's daughter, was elected as the country's third prime minister. The first, and to date, the only, woman to hold the post, Indira's first term in office lasted 11 years, in which she took steps such as nationalisation of banks; end of allowances and political posts, which were received by members of the royal families of the erstwhile princely states of the British Indian Empire. In addition, events such as the Indo-Pakistani War of 1971; the establishment of a sovereign Bangladesh; accession of Sikkim to India, through a referendum in 1975; and India's first nuclear test in Pokhran occurred during Indira's fir...\n",
      "\n",
      "--- Result 2 ---\n",
      "Content:\n",
      "Jawaharlal Nehru (14 November 1889 – 27 May 1964) was an Indian anti-colonial nationalist, secular humanist, social democrat, lawyer and statesman who was a central figure in India during the middle of the 20th century. Nehru was a principal leader of the Indian nationalist movement in the 1930s and 1940s. Upon India's independence in 1947, he served as the country's first prime minister for 16 years. Nehru promoted parliamentary democracy, secularism, and science and technology during the 1950s, powerfully influencing India's arc as a modern nation. In international affairs, he steered India clear of the two blocs of the Cold War. A well-regarded author, he wrote books such as Letters from a Father to His Daughter (1929), An Autobiography (1936) and The Discovery of India (1946), that have been read around the world.\n",
      "The son of Motilal Nehru, a prominent lawyer and Indian nationalist, Jawaharlal Nehru was educated in England—at Harrow School and Trinity College, Cambridge, and trained in the law at the Inner Temple. He became a barrister, returned to India, enrolled at the Allahabad High Court and gradually became interested in national politics, which eventually became a full-time occupation. He joined the Indian National Congress, rose to become the leader of a progressive faction during the 1920s, and eventually of the Congress, receiving the support of Mahatma Gandhi, who was to designate Nehru as his political heir. As Congress president in 1929, Nehru called for complete independence from the British Raj.\n",
      "Nehru and the Congress dominated Indian politics during the 1930s. Nehru promoted the idea of the secular nation-state in the 1937 provincial elections, allowing the Congress to sweep the elections and form governments in several provinces. In September 1939, the Congress ministries resigned to protest Viceroy Lord Linlithgow's decision to join the war without consulting them. After the All India Congress Committee's Quit India Resolution of 8 August 1942, senior Congress leaders were imprisoned, and for a time, the organisation was suppressed. Nehru, who had reluctantly heeded Gandhi's call for immediate independence, and had desired instead to support the Allied war effort during World War II, came out of a lengthy prison term to a much altered political landscape. Under Muhammad Ali Jinnah, the Muslim League had come to dominate Muslim politics in the interim. In the 1946 provincial elections, Congress won the elections, but the League won all the seats reserved for Muslims, which the British interpreted as a clear mandate for Pakistan in some form. Nehru became the interim prime minister of India in September 1946 and the League joined his government with some hesitancy in October 1946.\n",
      "Upon India's independence on 15 August 1947, Nehru gave a critically acclaimed speech, \"Tryst with Destiny\"; he was sworn in as the Dominion of India's prime minister and raised the Indian flag at the Red Fort in Delhi. On 26 January 1950, when India became a republic within the Commonwealth of Nations, Nehru became the Republic of India's first prime minister. He embarked on an ambitious economic, social, and political reform programme. Nehru promoted a pluralistic multi-party democracy. In foreign affairs, he led the establishment the Non-Aligned Movement, a group of nations that did not seek membership in the two main ideological blocs of the Cold War. Under Nehru's leadership, the Congress dominated national and state-level politics and won elections in 1951, 1957 and 1962. He died in office from a heart attack in 1964. His birthday is celebrated as Children's Day in India.\n",
      "\n",
      "\n",
      "== Early life and career (1889–1912) ==\n",
      "\n",
      "\n",
      "=== Birth and family background ===\n",
      "\n",
      "Jawaharlal Nehru was born on 14 November 1889 in Allahabad in British India to mother Swarup Rani née Thussu (1868–1938) and father Motilal Nehru (1861–1931). Both parents belonged to the community of Kashmiri Pandits, or Brahmins originally from the Kashmir valley. Motilal, a se...\n"
     ]
    }
   ],
   "source": [
    "# Print retrieved content\n",
    "for i, doc in enumerate(docs):\n",
    "    print(f\"\\n--- Result {i+1} ---\")\n",
    "    print(f\"Content:\\n{doc.page_content}...\")  # truncate for display"
   ]
  }
 ],
 "metadata": {
  "kernelspec": {
   "display_name": ".venv",
   "language": "python",
   "name": "python3"
  },
  "language_info": {
   "codemirror_mode": {
    "name": "ipython",
    "version": 3
   },
   "file_extension": ".py",
   "mimetype": "text/x-python",
   "name": "python",
   "nbconvert_exporter": "python",
   "pygments_lexer": "ipython3",
   "version": "3.13.7"
  }
 },
 "nbformat": 4,
 "nbformat_minor": 5
}
