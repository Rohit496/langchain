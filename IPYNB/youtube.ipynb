{
 "cells": [
  {
   "cell_type": "code",
   "execution_count": 1,
   "id": "b1e94fdd",
   "metadata": {},
   "outputs": [
    {
     "data": {
      "text/plain": [
       "True"
      ]
     },
     "execution_count": 1,
     "metadata": {},
     "output_type": "execute_result"
    }
   ],
   "source": [
    "import os\n",
    "from dotenv import load_dotenv\n",
    "\n",
    "load_dotenv()"
   ]
  },
  {
   "cell_type": "code",
   "execution_count": 6,
   "id": "205ac8ff",
   "metadata": {},
   "outputs": [
    {
     "name": "stdout",
     "output_type": "stream",
     "text": [
      "Note: you may need to restart the kernel to use updated packages.\n"
     ]
    }
   ],
   "source": [
    "!pip install -q youtube-transcript-api langchain-community langchain-openai \\\n",
    "               faiss-cpu tiktoken python-dotenv"
   ]
  },
  {
   "cell_type": "code",
   "execution_count": 22,
   "id": "ebb70f39",
   "metadata": {},
   "outputs": [
    {
     "name": "stdout",
     "output_type": "stream",
     "text": [
      "Requirement already satisfied: youtube-transcript-api in /Users/rohit/miniconda3/envs/langchain_env/lib/python3.13/site-packages (1.2.3)\n",
      "Requirement already satisfied: defusedxml<0.8.0,>=0.7.1 in /Users/rohit/miniconda3/envs/langchain_env/lib/python3.13/site-packages (from youtube-transcript-api) (0.7.1)\n",
      "Requirement already satisfied: requests in /Users/rohit/miniconda3/envs/langchain_env/lib/python3.13/site-packages (from youtube-transcript-api) (2.32.5)\n",
      "Requirement already satisfied: charset_normalizer<4,>=2 in /Users/rohit/miniconda3/envs/langchain_env/lib/python3.13/site-packages (from requests->youtube-transcript-api) (3.4.3)\n",
      "Requirement already satisfied: idna<4,>=2.5 in /Users/rohit/miniconda3/envs/langchain_env/lib/python3.13/site-packages (from requests->youtube-transcript-api) (3.10)\n",
      "Requirement already satisfied: urllib3<3,>=1.21.1 in /Users/rohit/miniconda3/envs/langchain_env/lib/python3.13/site-packages (from requests->youtube-transcript-api) (2.5.0)\n",
      "Requirement already satisfied: certifi>=2017.4.17 in /Users/rohit/miniconda3/envs/langchain_env/lib/python3.13/site-packages (from requests->youtube-transcript-api) (2025.10.5)\n",
      "Note: you may need to restart the kernel to use updated packages.\n",
      "Note: you may need to restart the kernel to use updated packages.\n"
     ]
    }
   ],
   "source": [
    "pip install youtube-transcript-api"
   ]
  },
  {
   "cell_type": "code",
   "execution_count": 2,
   "id": "5bbc371b",
   "metadata": {},
   "outputs": [],
   "source": [
    "from youtube_transcript_api import YouTubeTranscriptApi, TranscriptsDisabled\n",
    "from langchain.text_splitter import RecursiveCharacterTextSplitter\n",
    "from langchain_openai import OpenAIEmbeddings, ChatOpenAI\n",
    "from langchain_community.vectorstores import FAISS\n",
    "from langchain_core.prompts import PromptTemplate"
   ]
  },
  {
   "cell_type": "markdown",
   "id": "535ba406",
   "metadata": {},
   "source": [
    "## Step 1a - Indexing (Document Ingestion)"
   ]
  },
  {
   "cell_type": "code",
   "execution_count": 3,
   "id": "76cfae02",
   "metadata": {},
   "outputs": [
    {
     "name": "stdout",
     "output_type": "stream",
     "text": [
      "[Music] This week on the Salesforce admin podcast, I sit down with Sharon Clardy, who's the senior director of Salesforce Labs, to talk about, well, hm, what else? Free innovation. Sharon shares how Labs empowers Salesforce employees to build and share solutions on the app exchange and what that means for Salesforce admins navigating the new world of AI and why this is important. You should never install a new app straight into production. Now, whether you're Dreamforcebound or catching up after Dreamforce, this one's packed with a lot of great tips from Sharon and a lot of AI strategy gold. So, tune in, take notes, and let's get Sharon on the podcast. [Music] So, Sharon, welcome to the podcast. >> Thank you for having me, Mike. >> I find it hard to believe, but you are one of the few people in the world that hasn't been on the Salesforce admin podcast, despite you and me being in the ecosystem for like a thousand years. >> I know. Well, I was thinking about this this morning and I was like, I can't believe I haven't been on here yet. So, I'm super excited to share with the listeners here today. >> Well, let's talk about that. So, how did you get started in Salesforce and and in the ecosystem and and what do you do at Salesforce? >> Oh, I love a Salesforce origin story. So, picture it's 2010. Uh, and I'm working at a software company that gets bought by an equity partner and that equity partner implements Salesforce at every company they buy. And that was my first introduction to Salesforce back when it was just sales and service cloud. And I absolutely fell in love with the platform. I felt empowered. There was community behind it. And uh ever since then, so from 2010 till today, I've been all Salesforce all the time. >> Wow. And you joined Salesforce. What part of Salesforce did you join? >> So when I joined Salesforce in 2018, uh I joined leading the Salesforce Labs program. That was exclusively my focus. It's been part of my remitt uh my entire time almost eight years here at Salesforce and I've added some other things to to what I do on the daily basis. But the Salesforce Labs program, community innovation, it's my passion area. It's what brings me joy. Uh I just actually love being part of it. Seeing the creativity of the employee community creating labs and seeing the the creativity of our trailblazers who are using lab solutions. So for anybody that hasn't heard about Labs, like when you say Salesforce Labs, what do you mean? >> So Salesforce Labs is a program that's actually turning 20 next year, if you can believe it. It's an innovation program where we empower Salesforce employees to create solutions, package them, and share them on App Exchange for our customers to use. And Salesforce Lab solutions are always free. They're communitydriven. You can think of them like an open-source project. Uh so it's volunteered by employees. So it's not an employee who is on a product team and this is part of you know their regular release roadmap. This is an employee who sees a problem in the space that they want to solve or they have a really creative idea on how to use our technology. So the labs program really helps trailblazers to learn new technology, play around with it, get starter packs and templates. You know blank canvas anxiety is is a real struggle as an admin thrown back a few years from my admin days. But sometimes a new feature would be rolled out and you like I'm not sure where to start. So the labs pro really tries to help trailblazers be able to adopt new technology, understand how you can use it and showcase the art of the possible. >> That's good. I know as an admin um I found labs because I need a project management app and at the time Reed Colberg had a really cool one. So I was like, \"Oh, that's kind of cool.\" And then from there on I looked for the little beaker logo. >> Yeah, we love that Beaker logo. Uh, and and then we evolved the logo to actually use the periodic elements of tables to use labs spelled out cuz we're geeky like that, >> right? I know. Um, it kind of has like a Breaking Bad feel to it. I'm all about that. So, at Dreamforce, you're going to talk about seven free solutions to drive your AI strategy forward. It's going to be a really cool presentation, and some people are going to get to see it, some people aren't. Why is it important for admins to look to the app exchange and some of our labs apps in terms of moving AI forward in their organizations? >> Uh yeah, so right now AI is moving at the speed of light or whatever is faster than the speed of light. I'm not sure what that is, but there's probably something faster than the speed of light. And that's what it feels like is happening right now. So one of the benefits that the labs program will have is is we can showcase different solutions on how to use this new technology but also I think even more importantly is how do we think about how do we want to implement AI at our organization and sometimes that might actually be using a lab solution or another partner solution on app exchange that isn't actually AIdriven but helps set the groundwork for how do you have a strong AI strategy. So an example of that would be, you know, is there a set of technology or tools or processes that you should have in place at your organization to really help you identify what are your goals and use cases for using AI. Uh and we have a number of different lab solutions that we'll we'll share. They'll be the pro tip for anybody who's going to see the content. Uh we'll throw it be probably a few more solutions than seven. Uh we'll throw a couple bonus things in there, some shout outs, but there's a lot of technology out there to really help you frame, you know, is your data ready? Like data readiness is super important as an AI strategy uh to move forward in the space if you're going to train your AI or use AI on your data. And if your data is no good, then you're going to have a problem. The AI isn't going to respond the way that you expect or what your business needs. So we want to showcase these solutions that you can use to get started to help ground you in strong AI strategies. >> So it's not just downloading agents. >> Exactly. It's going to be more than that. It's really about thinking about how do you have meaningful and mindful implementation of AI at your organization. Uh and we'll also have some showcases of of how to use cool agent forests and AI technology. >> Oh nice. Um, I noticed you put the word free in your title. That implies that there's some that aren't free. >> Uh, yes. So, all Salesforce Lab solutions are free. So, anything that our employees create and contribute are free to download from App Exchange, but there are other solutions from our partner ecosystem and some are free and some are paid. Uh, it is important to note for anybody who's not familiar with the Salesforce Labs program is these are not official Salesforce products. they're not and which is actually called out in the U master service agreement the MSA is these are community contributions so you can't pick up the phone and call support and get help for them uh we generally try to open source all of our lab solutions on GitHub so you can actually use it to learn new technology see how uh an employee built that solution or maybe that solution uh does 80% of what you want but you want to change it you can go get the source code and then go customize it for whatever works for your business and if the solution that the employee built hits a home run and it solves your business challenge you're trying to solve, you can go install the managed package and off off to the races. >> Yeah. And I'm also thinking any of your labs apps are also going to immediately be able to be agentified. >> I I would say so we have some lab solutions. I wouldn't say that's a 100% guarantee. uh although most of them should be able to be extended but we have over 500 lab solutions on app exchange and I can't say conclusively that all 500 >> you don't know all 500 just like the back of your hand come >> unfortunately do not I know many of them but not all 500 uh but yeah most of them should be extended we're actually looking at engaging with some of our more popular lab solutions and having conversations with the builders to say like what are ways that we could extend this uh using newer technology that's come out either adjacent you know something like if you want to use AI you can you know add on to it but if you still want to use the main kind of core functionality like custom objects and and flows that was there but not you know to have an AI arm to it then you could still use the original but how can we take these to the next level using you know the great technology that's come out over the past couple of years >> yeah now I think the use of apps within Salesforce is is probably evolved since you and I were out in the world as we little admins wandering blindly through the the Salesforce universe because like it it's become ambiguous that you' use an app on your phone, right? Like there's there's specialized apps to do things and so when people use, you know, oftent times like on my iPhone, I'll get an app, I'll try it out, it won't work, I'll just delete it. but I don't have like a spare phone. What is best practice for admins evaluating apps be it from labs or or somewhere on the on the app exchange in terms of trying and testing something out perhaps before it goes into production. >> Uh there absolutely are some best practices. Number one will be we do not install brand new apps we've never explored into production. We do not do that. I'll repeat, we do not do that. uh some uh trailblazers you know like to explore in a dev or first but you know the cons of that is you don't have your unique customizations. Uh a lot of trailblazers have a lot of success in you know installing a lab solution or a partner solution in a sandbox first. So you can see what how it interacts with the customizations you've made to the platform. But both either a dev or a sandbox is absolutely where you want to start to check out any new solution whether it be labs or partner solution. >> Yeah. So, that was the first mistake that I made back in the day. I would just try things out in production. Why not? >> Yeah. No, hopefully uh nobody takes that guidance, Mike. It's definitely uh it's it's much more advantageous for everyone to kind of play around and see how things work. And it gives you a little bit more freedom as an admin to kind of kind of look under the hood and see how exactly it's going to work and then what your rollout plan is because it's just like what I tell my labs builders. uh it's not if you build it they will come. It's not if you install it it will work. Right. Right. So you also need to have that kind of change management process at your organization. If you just install a new app and has some great functionality if you don't tell your users about it once you move it to production you know they might not know what to do with it or they might not use it in the way that you had in mind. You know, I think we all know in technology when we release things into the wild of our user base, we are going to come across some use cases and edge cases that we never thought might be the reality. So, the more that you can get ahead of that in the change management process, uh it's just going to be smoother for both you as an admin and also for your end users. >> Yeah. Now, one thing I'd be remiss not to cover, we covered a lot. We talked a lot about consumption part, but you mentioned labs is also open to non- Salesforce employees, correct? >> No. So, only Salesforce employees today can create and distribute a Salesforce lab solution. >> Gotcha. But our app exchange is open to non Salesforce. >> Absolutely. We have a very robust partner ecosystem and a process to engage. It can be a free solution that somebody wants to create as a business to kind of spin up and share with the community. You can go through our partner program to do that. And of course, uh it's, you know, it's an ecosystem. So, if you have a solution idea that you believe is of value to our broader trailblazer community and customers, then you can engage with our program and list there. But anything created by Salesforce Labs is created by a Salesforce employee. >> Yeah. And I just also want to note labs go through the same security review process that all of our partner solutions go through as well. >> Oh, so no cheating because it's a Salesforce employee. >> That's exactly right. You know, trust is our number one value here. We want all the labs to adhere to that as well, >> right? Yeah. No, it's same rules apply for everybody. That way you get the the same quality and consistency. So that makes sense. Well, Sharon, thanks for coming on the podcast. I think this session is going to be awesome. Uh, I can't wait to to hear what people have to say about it and I can't wait to see what new stuff comes out from the labs team. >> Yeah. Well, thank you for having me. Hopefully it's not it's the first time, but hopefully not the last time. I've really enjoyed chatting with you, Mike. And if anybody is at the session and shows up at Dreamforce, stop by and say hello. I'd love to meet you. Uh, and I'm on LinkedIn and if you want to engage with that way, share any feedback about the labs program, uh, I'm happy to engage. [Music] So, a big thanks to Sharon for joining us and sharing some behindthescenes look at the uh Salesforce Labs. I don't know about you, but I'm ready to fire up a sandbox and test drive some Labs apps. That was always the most fun part for me as an admin. But remember, not in production, just in a sandbox or not in production. But uh hey, if you're heading to Dreamforce, don't miss her session on the seven plus she says a few bonus free sessions to fuel your AI strategy. And remember, best part about Salesforce Labs apps is they're free and open and they are built with you, the community, the Salesforce admins, developers, architects in mind. So with that, until next time, we'll see you in the cloud. [Music]\n"
     ]
    }
   ],
   "source": [
    "video_id = \"ZGJ0ITMNOtM\"  # only the ID, not full URL\n",
    "try:\n",
    "    # If you don't care which language, this returns the \"best\" one\n",
    "    api = YouTubeTranscriptApi()\n",
    "    transcript_list = api.fetch(video_id, languages=[\"en\"])\n",
    "\n",
    "    # Flatten it to plain text\n",
    "    transcript = \" \".join(chunk.text for chunk in transcript_list)\n",
    "    print(transcript)\n",
    "\n",
    "except TranscriptsDisabled:\n",
    "    print(\"No captions available for this video.\")"
   ]
  },
  {
   "cell_type": "code",
   "execution_count": 4,
   "id": "0e98c0e5",
   "metadata": {},
   "outputs": [
    {
     "name": "stdout",
     "output_type": "stream",
     "text": [
      "Transcript List: FetchedTranscript(snippets=[FetchedTranscriptSnippet(text='[Music]', start=2.99, duration=3.97), FetchedTranscriptSnippet(text='This week on the Salesforce admin', start=5.44, duration=3.36), FetchedTranscriptSnippet(text='podcast, I sit down with Sharon Clardy,', start=6.96, duration=3.599), FetchedTranscriptSnippet(text=\"who's the senior director of Salesforce\", start=8.8, duration=4.24), FetchedTranscriptSnippet(text='Labs, to talk about, well, hm, what', start=10.559, duration=5.521), FetchedTranscriptSnippet(text='else? Free innovation.', start=13.04, duration=5.52), FetchedTranscriptSnippet(text='Sharon shares how Labs empowers', start=16.08, duration=5.039), FetchedTranscriptSnippet(text='Salesforce employees to build and share', start=18.56, duration=5.52), FetchedTranscriptSnippet(text='solutions on the app exchange and what', start=21.119, duration=5.121), FetchedTranscriptSnippet(text='that means for Salesforce admins', start=24.08, duration=6.4), FetchedTranscriptSnippet(text='navigating the new world of AI and why', start=26.24, duration=6.72), FetchedTranscriptSnippet(text='this is important. You should never', start=30.48, duration=4.079), FetchedTranscriptSnippet(text='install a new app straight into', start=32.96, duration=2.96), FetchedTranscriptSnippet(text=\"production. Now, whether you're\", start=34.559, duration=4.081), FetchedTranscriptSnippet(text='Dreamforcebound or catching up after', start=35.92, duration=4.88), FetchedTranscriptSnippet(text=\"Dreamforce, this one's packed with a lot\", start=38.64, duration=4.96), FetchedTranscriptSnippet(text='of great tips from Sharon and a lot of', start=40.8, duration=5.12), FetchedTranscriptSnippet(text='AI strategy gold.', start=43.6, duration=4.72), FetchedTranscriptSnippet(text=\"So, tune in, take notes, and let's get\", start=45.92, duration=5.11), FetchedTranscriptSnippet(text='Sharon on the podcast.', start=48.32, duration=5.74), FetchedTranscriptSnippet(text='[Music]', start=51.03, duration=3.03), FetchedTranscriptSnippet(text='So, Sharon, welcome to the podcast.', start=55.92, duration=3.92), FetchedTranscriptSnippet(text='>> Thank you for having me, Mike.', start=58.32, duration=3.68), FetchedTranscriptSnippet(text='>> I find it hard to believe, but you are', start=59.84, duration=3.84), FetchedTranscriptSnippet(text='one of the few people in the world that', start=62.0, duration=3.439), FetchedTranscriptSnippet(text=\"hasn't been on the Salesforce admin\", start=63.68, duration=4.56), FetchedTranscriptSnippet(text='podcast, despite you and me being in the', start=65.439, duration=5.921), FetchedTranscriptSnippet(text='ecosystem for like a thousand years.', start=68.24, duration=4.4), FetchedTranscriptSnippet(text='>> I know. Well, I was thinking about this', start=71.36, duration=2.799), FetchedTranscriptSnippet(text=\"this morning and I was like, I can't\", start=72.64, duration=2.72), FetchedTranscriptSnippet(text=\"believe I haven't been on here yet. So,\", start=74.159, duration=2.721), FetchedTranscriptSnippet(text=\"I'm super excited to share with the\", start=75.36, duration=2.72), FetchedTranscriptSnippet(text='listeners here today.', start=76.88, duration=2.8), FetchedTranscriptSnippet(text=\">> Well, let's talk about that. So, how did\", start=78.08, duration=4.48), FetchedTranscriptSnippet(text='you get started in Salesforce and and in', start=79.68, duration=4.72), FetchedTranscriptSnippet(text='the ecosystem and and what do you do at', start=82.56, duration=2.72), FetchedTranscriptSnippet(text='Salesforce?', start=84.4, duration=2.96), FetchedTranscriptSnippet(text='>> Oh, I love a Salesforce origin story.', start=85.28, duration=5.36), FetchedTranscriptSnippet(text=\"So, picture it's 2010. Uh, and I'm\", start=87.36, duration=5.439), FetchedTranscriptSnippet(text='working at a software company that gets', start=90.64, duration=4.159), FetchedTranscriptSnippet(text='bought by an equity partner and that', start=92.799, duration=4.401), FetchedTranscriptSnippet(text='equity partner implements Salesforce at', start=94.799, duration=4.64), FetchedTranscriptSnippet(text='every company they buy. And that was my', start=97.2, duration=3.68), FetchedTranscriptSnippet(text='first introduction to Salesforce back', start=99.439, duration=3.04), FetchedTranscriptSnippet(text='when it was just sales and service', start=100.88, duration=3.919), FetchedTranscriptSnippet(text='cloud. And I absolutely fell in love', start=102.479, duration=4.32), FetchedTranscriptSnippet(text='with the platform. I felt empowered.', start=104.799, duration=4.64), FetchedTranscriptSnippet(text='There was community behind it. And uh', start=106.799, duration=4.881), FetchedTranscriptSnippet(text='ever since then, so from 2010 till', start=109.439, duration=4.32), FetchedTranscriptSnippet(text=\"today, I've been all Salesforce all the\", start=111.68, duration=2.88), FetchedTranscriptSnippet(text='time.', start=113.759, duration=4.481), FetchedTranscriptSnippet(text='>> Wow. And you joined Salesforce.', start=114.56, duration=5.76), FetchedTranscriptSnippet(text='What part of Salesforce did you join?', start=118.24, duration=4.559), FetchedTranscriptSnippet(text='>> So when I joined Salesforce in 2018, uh', start=120.32, duration=4.32), FetchedTranscriptSnippet(text='I joined leading the Salesforce Labs', start=122.799, duration=3.6), FetchedTranscriptSnippet(text='program. That was exclusively my focus.', start=124.64, duration=4.319), FetchedTranscriptSnippet(text=\"It's been part of my remitt uh my entire\", start=126.399, duration=3.92), FetchedTranscriptSnippet(text='time almost eight years here at', start=128.959, duration=3.521), FetchedTranscriptSnippet(text=\"Salesforce and I've added some other\", start=130.319, duration=4.241), FetchedTranscriptSnippet(text='things to to what I do on the daily', start=132.48, duration=4.479), FetchedTranscriptSnippet(text='basis. But the Salesforce Labs program,', start=134.56, duration=4.24), FetchedTranscriptSnippet(text=\"community innovation, it's my passion\", start=136.959, duration=4.801), FetchedTranscriptSnippet(text=\"area. It's what brings me joy. Uh I just\", start=138.8, duration=4.72), FetchedTranscriptSnippet(text='actually love being part of it. Seeing', start=141.76, duration=4.16), FetchedTranscriptSnippet(text='the creativity of the employee community', start=143.52, duration=4.56), FetchedTranscriptSnippet(text='creating labs and seeing the the', start=145.92, duration=4.399), FetchedTranscriptSnippet(text='creativity of our trailblazers who are', start=148.08, duration=5.6), FetchedTranscriptSnippet(text='using lab solutions. So for anybody that', start=150.319, duration=6.161), FetchedTranscriptSnippet(text=\"hasn't heard about Labs, like when you\", start=153.68, duration=5.04), FetchedTranscriptSnippet(text='say Salesforce Labs, what do you mean?', start=156.48, duration=4.08), FetchedTranscriptSnippet(text=\">> So Salesforce Labs is a program that's\", start=158.72, duration=3.84), FetchedTranscriptSnippet(text='actually turning 20 next year, if you', start=160.56, duration=3.36), FetchedTranscriptSnippet(text=\"can believe it. It's an innovation\", start=162.56, duration=3.28), FetchedTranscriptSnippet(text='program where we empower Salesforce', start=163.92, duration=4.319), FetchedTranscriptSnippet(text='employees to create solutions, package', start=165.84, duration=4.56), FetchedTranscriptSnippet(text='them, and share them on App Exchange for', start=168.239, duration=4.08), FetchedTranscriptSnippet(text='our customers to use. And Salesforce Lab', start=170.4, duration=3.76), FetchedTranscriptSnippet(text=\"solutions are always free. They're\", start=172.319, duration=3.28), FetchedTranscriptSnippet(text='communitydriven. You can think of them', start=174.16, duration=3.52), FetchedTranscriptSnippet(text=\"like an open-source project. Uh so it's\", start=175.599, duration=4.241), FetchedTranscriptSnippet(text=\"volunteered by employees. So it's not an\", start=177.68, duration=4.24), FetchedTranscriptSnippet(text='employee who is on a product team and', start=179.84, duration=3.679), FetchedTranscriptSnippet(text='this is part of you know their regular', start=181.92, duration=4.0), FetchedTranscriptSnippet(text='release roadmap. This is an employee who', start=183.519, duration=4.961), FetchedTranscriptSnippet(text='sees a problem in the space that they', start=185.92, duration=4.56), FetchedTranscriptSnippet(text='want to solve or they have a really', start=188.48, duration=3.679), FetchedTranscriptSnippet(text='creative idea on how to use our', start=190.48, duration=4.0), FetchedTranscriptSnippet(text='technology. So the labs program really', start=192.159, duration=5.36), FetchedTranscriptSnippet(text='helps trailblazers to learn new', start=194.48, duration=5.36), FetchedTranscriptSnippet(text='technology, play around with it, get', start=197.519, duration=4.08), FetchedTranscriptSnippet(text='starter packs and templates. You know', start=199.84, duration=4.08), FetchedTranscriptSnippet(text='blank canvas anxiety is is a real', start=201.599, duration=4.64), FetchedTranscriptSnippet(text='struggle as an admin thrown back a few', start=203.92, duration=4.319), FetchedTranscriptSnippet(text='years from my admin days. But sometimes', start=206.239, duration=3.441), FetchedTranscriptSnippet(text='a new feature would be rolled out and', start=208.239, duration=3.521), FetchedTranscriptSnippet(text=\"you like I'm not sure where to start. So\", start=209.68, duration=4.0), FetchedTranscriptSnippet(text='the labs pro really tries to help', start=211.76, duration=3.52), FetchedTranscriptSnippet(text='trailblazers be able to adopt new', start=213.68, duration=3.199), FetchedTranscriptSnippet(text='technology, understand how you can use', start=215.28, duration=4.08), FetchedTranscriptSnippet(text='it and showcase the art of the possible.', start=216.879, duration=5.36), FetchedTranscriptSnippet(text=\">> That's good. I know as an admin um I\", start=219.36, duration=4.799), FetchedTranscriptSnippet(text='found labs because I need a project', start=222.239, duration=4.321), FetchedTranscriptSnippet(text='management app and at the time Reed', start=224.159, duration=4.8), FetchedTranscriptSnippet(text='Colberg had a really cool one. So I was', start=226.56, duration=3.92), FetchedTranscriptSnippet(text='like, \"Oh, that\\'s kind of cool.\" And', start=228.959, duration=2.961), FetchedTranscriptSnippet(text='then from there on I looked for the', start=230.48, duration=2.72), FetchedTranscriptSnippet(text='little beaker logo.', start=231.92, duration=3.679), FetchedTranscriptSnippet(text='>> Yeah, we love that Beaker logo. Uh, and', start=233.2, duration=4.319), FetchedTranscriptSnippet(text='and then we evolved the logo to actually', start=235.599, duration=4.081), FetchedTranscriptSnippet(text='use the periodic elements of tables to', start=237.519, duration=4.08), FetchedTranscriptSnippet(text=\"use labs spelled out cuz we're geeky\", start=239.68, duration=2.639), FetchedTranscriptSnippet(text='like that,', start=241.599, duration=3.041), FetchedTranscriptSnippet(text='>> right? I know. Um, it kind of has like a', start=242.319, duration=4.961), FetchedTranscriptSnippet(text=\"Breaking Bad feel to it. I'm all about\", start=244.64, duration=5.36), FetchedTranscriptSnippet(text=\"that. So, at Dreamforce, you're going to\", start=247.28, duration=4.8), FetchedTranscriptSnippet(text='talk about seven free solutions to drive', start=250.0, duration=4.56), FetchedTranscriptSnippet(text=\"your AI strategy forward. It's going to\", start=252.08, duration=4.48), FetchedTranscriptSnippet(text='be a really cool presentation, and some', start=254.56, duration=3.28), FetchedTranscriptSnippet(text='people are going to get to see it, some', start=256.56, duration=4.16), FetchedTranscriptSnippet(text=\"people aren't. Why is it important for\", start=257.84, duration=5.68), FetchedTranscriptSnippet(text='admins to look to the app exchange and', start=260.72, duration=6.08), FetchedTranscriptSnippet(text='some of our labs apps in terms of moving', start=263.52, duration=5.76), FetchedTranscriptSnippet(text='AI forward in their organizations?', start=266.8, duration=5.04), FetchedTranscriptSnippet(text='>> Uh yeah, so right now AI is moving at', start=269.28, duration=4.56), FetchedTranscriptSnippet(text='the speed of light or whatever is faster', start=271.84, duration=4.16), FetchedTranscriptSnippet(text=\"than the speed of light. I'm not sure\", start=273.84, duration=3.28), FetchedTranscriptSnippet(text=\"what that is, but there's probably\", start=276.0, duration=2.4), FetchedTranscriptSnippet(text='something faster than the speed of', start=277.12, duration=2.96), FetchedTranscriptSnippet(text=\"light. And that's what it feels like is\", start=278.4, duration=3.359), FetchedTranscriptSnippet(text='happening right now. So one of the', start=280.08, duration=4.64), FetchedTranscriptSnippet(text='benefits that the labs program will have', start=281.759, duration=4.72), FetchedTranscriptSnippet(text='is is we can showcase different', start=284.72, duration=3.28), FetchedTranscriptSnippet(text='solutions on how to use this new', start=286.479, duration=4.241), FetchedTranscriptSnippet(text='technology but also I think even more', start=288.0, duration=5.199), FetchedTranscriptSnippet(text='importantly is how do we think about how', start=290.72, duration=4.32), FetchedTranscriptSnippet(text='do we want to implement AI at our', start=293.199, duration=3.761), FetchedTranscriptSnippet(text='organization and sometimes that might', start=295.04, duration=3.92), FetchedTranscriptSnippet(text='actually be using a lab solution or', start=296.96, duration=4.4), FetchedTranscriptSnippet(text='another partner solution on app exchange', start=298.96, duration=4.72), FetchedTranscriptSnippet(text=\"that isn't actually AIdriven but helps\", start=301.36, duration=4.32), FetchedTranscriptSnippet(text='set the groundwork for how do you have a', start=303.68, duration=4.56), FetchedTranscriptSnippet(text='strong AI strategy. So an example of', start=305.68, duration=4.959), FetchedTranscriptSnippet(text='that would be, you know, is there a set', start=308.24, duration=5.2), FetchedTranscriptSnippet(text='of technology or tools or processes that', start=310.639, duration=4.0), FetchedTranscriptSnippet(text='you should have in place at your', start=313.44, duration=3.68), FetchedTranscriptSnippet(text='organization to really help you identify', start=314.639, duration=4.4), FetchedTranscriptSnippet(text='what are your goals and use cases for', start=317.12, duration=4.32), FetchedTranscriptSnippet(text='using AI. Uh and we have a number of', start=319.039, duration=4.241), FetchedTranscriptSnippet(text=\"different lab solutions that we'll we'll\", start=321.44, duration=3.68), FetchedTranscriptSnippet(text=\"share. They'll be the pro tip for\", start=323.28, duration=3.6), FetchedTranscriptSnippet(text=\"anybody who's going to see the content.\", start=325.12, duration=3.6), FetchedTranscriptSnippet(text=\"Uh we'll throw it be probably a few more\", start=326.88, duration=3.92), FetchedTranscriptSnippet(text=\"solutions than seven. Uh we'll throw a\", start=328.72, duration=3.68), FetchedTranscriptSnippet(text='couple bonus things in there, some shout', start=330.8, duration=3.52), FetchedTranscriptSnippet(text=\"outs, but there's a lot of technology\", start=332.4, duration=4.48), FetchedTranscriptSnippet(text='out there to really help you frame, you', start=334.32, duration=4.56), FetchedTranscriptSnippet(text='know, is your data ready? Like data', start=336.88, duration=4.0), FetchedTranscriptSnippet(text='readiness is super important as an AI', start=338.88, duration=4.08), FetchedTranscriptSnippet(text='strategy uh to move forward in the space', start=340.88, duration=3.92), FetchedTranscriptSnippet(text=\"if you're going to train your AI or use\", start=342.96, duration=4.16), FetchedTranscriptSnippet(text='AI on your data. And if your data is no', start=344.8, duration=4.0), FetchedTranscriptSnippet(text=\"good, then you're going to have a\", start=347.12, duration=3.359), FetchedTranscriptSnippet(text=\"problem. The AI isn't going to respond\", start=348.8, duration=3.44), FetchedTranscriptSnippet(text='the way that you expect or what your', start=350.479, duration=4.401), FetchedTranscriptSnippet(text='business needs. So we want to showcase', start=352.24, duration=4.64), FetchedTranscriptSnippet(text='these solutions that you can use to get', start=354.88, duration=4.72), FetchedTranscriptSnippet(text='started to help ground you in strong AI', start=356.88, duration=3.92), FetchedTranscriptSnippet(text='strategies.', start=359.6, duration=3.84), FetchedTranscriptSnippet(text=\">> So it's not just downloading agents.\", start=360.8, duration=3.92), FetchedTranscriptSnippet(text=\">> Exactly. It's going to be more than\", start=363.44, duration=2.56), FetchedTranscriptSnippet(text=\"that. It's really about thinking about\", start=364.72, duration=4.08), FetchedTranscriptSnippet(text='how do you have meaningful and mindful', start=366.0, duration=4.639), FetchedTranscriptSnippet(text='implementation of AI at your', start=368.8, duration=3.839), FetchedTranscriptSnippet(text=\"organization. Uh and we'll also have\", start=370.639, duration=4.081), FetchedTranscriptSnippet(text='some showcases of of how to use cool', start=372.639, duration=4.641), FetchedTranscriptSnippet(text='agent forests and AI technology.', start=374.72, duration=6.64), FetchedTranscriptSnippet(text='>> Oh nice. Um, I noticed you put the word', start=377.28, duration=7.359), FetchedTranscriptSnippet(text='free in your title. That implies that', start=381.36, duration=5.36), FetchedTranscriptSnippet(text=\"there's some that aren't free.\", start=384.639, duration=3.761), FetchedTranscriptSnippet(text='>> Uh, yes. So, all Salesforce Lab', start=386.72, duration=3.199), FetchedTranscriptSnippet(text='solutions are free. So, anything that', start=388.4, duration=3.68), FetchedTranscriptSnippet(text='our employees create and contribute are', start=389.919, duration=4.241), FetchedTranscriptSnippet(text='free to download from App Exchange, but', start=392.08, duration=3.36), FetchedTranscriptSnippet(text='there are other solutions from our', start=394.16, duration=3.2), FetchedTranscriptSnippet(text='partner ecosystem and some are free and', start=395.44, duration=4.16), FetchedTranscriptSnippet(text='some are paid. Uh, it is important to', start=397.36, duration=4.32), FetchedTranscriptSnippet(text=\"note for anybody who's not familiar with\", start=399.6, duration=4.4), FetchedTranscriptSnippet(text='the Salesforce Labs program is these are', start=401.68, duration=3.92), FetchedTranscriptSnippet(text='not official Salesforce products.', start=404.0, duration=3.199), FetchedTranscriptSnippet(text=\"they're not and which is actually called\", start=405.6, duration=3.36), FetchedTranscriptSnippet(text='out in the U master service agreement', start=407.199, duration=4.241), FetchedTranscriptSnippet(text='the MSA is these are community', start=408.96, duration=4.56), FetchedTranscriptSnippet(text=\"contributions so you can't pick up the\", start=411.44, duration=3.68), FetchedTranscriptSnippet(text='phone and call support and get help for', start=413.52, duration=4.239), FetchedTranscriptSnippet(text='them uh we generally try to open source', start=415.12, duration=4.799), FetchedTranscriptSnippet(text='all of our lab solutions on GitHub so', start=417.759, duration=3.681), FetchedTranscriptSnippet(text='you can actually use it to learn new', start=419.919, duration=4.321), FetchedTranscriptSnippet(text='technology see how uh an employee built', start=421.44, duration=5.44), FetchedTranscriptSnippet(text='that solution or maybe that solution uh', start=424.24, duration=4.399), FetchedTranscriptSnippet(text='does 80% of what you want but you want', start=426.88, duration=3.439), FetchedTranscriptSnippet(text='to change it you can go get the source', start=428.639, duration=3.361), FetchedTranscriptSnippet(text='code and then go customize it for', start=430.319, duration=3.521), FetchedTranscriptSnippet(text='whatever works for your business and if', start=432.0, duration=3.44), FetchedTranscriptSnippet(text='the solution that the employee built', start=433.84, duration=3.6), FetchedTranscriptSnippet(text='hits a home run and it solves your', start=435.44, duration=3.28), FetchedTranscriptSnippet(text=\"business challenge you're trying to\", start=437.44, duration=3.039), FetchedTranscriptSnippet(text='solve, you can go install the managed', start=438.72, duration=4.0), FetchedTranscriptSnippet(text='package and off off to the races.', start=440.479, duration=5.28), FetchedTranscriptSnippet(text=\">> Yeah. And I'm also thinking any of your\", start=442.72, duration=5.919), FetchedTranscriptSnippet(text='labs apps are also going to immediately', start=445.759, duration=6.56), FetchedTranscriptSnippet(text='be able to be agentified.', start=448.639, duration=5.361), FetchedTranscriptSnippet(text='>> I I would say so we have some lab', start=452.319, duration=3.841), FetchedTranscriptSnippet(text=\"solutions. I wouldn't say that's a 100%\", start=454.0, duration=4.319), FetchedTranscriptSnippet(text='guarantee. uh although most of them', start=456.16, duration=5.039), FetchedTranscriptSnippet(text='should be able to be extended but we', start=458.319, duration=5.681), FetchedTranscriptSnippet(text='have over 500 lab solutions on app', start=461.199, duration=4.641), FetchedTranscriptSnippet(text=\"exchange and I can't say conclusively\", start=464.0, duration=2.88), FetchedTranscriptSnippet(text='that all 500', start=465.84, duration=2.88), FetchedTranscriptSnippet(text=\">> you don't know all 500 just like the\", start=466.88, duration=3.2), FetchedTranscriptSnippet(text='back of your hand come', start=468.72, duration=3.28), FetchedTranscriptSnippet(text='>> unfortunately do not I know many of them', start=470.08, duration=4.72), FetchedTranscriptSnippet(text='but not all 500', start=472.0, duration=4.4), FetchedTranscriptSnippet(text='uh but yeah most of them should be', start=474.8, duration=3.2), FetchedTranscriptSnippet(text=\"extended we're actually looking at\", start=476.4, duration=3.519), FetchedTranscriptSnippet(text='engaging with some of our more popular', start=478.0, duration=4.16), FetchedTranscriptSnippet(text='lab solutions and having conversations', start=479.919, duration=4.881), FetchedTranscriptSnippet(text='with the builders to say like what are', start=482.16, duration=4.879), FetchedTranscriptSnippet(text='ways that we could extend this uh using', start=484.8, duration=4.48), FetchedTranscriptSnippet(text=\"newer technology that's come out either\", start=487.039, duration=4.0), FetchedTranscriptSnippet(text='adjacent you know something like if you', start=489.28, duration=3.84), FetchedTranscriptSnippet(text='want to use AI you can you know add on', start=491.039, duration=3.84), FetchedTranscriptSnippet(text='to it but if you still want to use the', start=493.12, duration=3.84), FetchedTranscriptSnippet(text='main kind of core functionality like', start=494.879, duration=4.32), FetchedTranscriptSnippet(text='custom objects and and flows that was', start=496.96, duration=4.56), FetchedTranscriptSnippet(text='there but not you know to have an AI arm', start=499.199, duration=3.601), FetchedTranscriptSnippet(text='to it then you could still use the', start=501.52, duration=3.359), FetchedTranscriptSnippet(text='original but how can we take these to', start=502.8, duration=4.0), FetchedTranscriptSnippet(text='the next level using you know the great', start=504.879, duration=3.6), FetchedTranscriptSnippet(text=\"technology that's come out over the past\", start=506.8, duration=2.64), FetchedTranscriptSnippet(text='couple of years', start=508.479, duration=5.44), FetchedTranscriptSnippet(text='>> yeah now I think the use of apps within', start=509.44, duration=7.039), FetchedTranscriptSnippet(text='Salesforce is is probably evolved since', start=513.919, duration=5.6), FetchedTranscriptSnippet(text='you and I were out in the world as we', start=516.479, duration=5.601), FetchedTranscriptSnippet(text='little admins wandering blindly through', start=519.519, duration=5.841), FetchedTranscriptSnippet(text='the the Salesforce universe because like', start=522.08, duration=6.0), FetchedTranscriptSnippet(text=\"it it's become ambiguous that you' use\", start=525.36, duration=4.8), FetchedTranscriptSnippet(text='an app on your phone, right? Like', start=528.08, duration=4.48), FetchedTranscriptSnippet(text=\"there's there's specialized apps to do\", start=530.16, duration=5.92), FetchedTranscriptSnippet(text='things and so when people use, you know,', start=532.56, duration=6.719), FetchedTranscriptSnippet(text=\"oftent times like on my iPhone, I'll get\", start=536.08, duration=5.12), FetchedTranscriptSnippet(text=\"an app, I'll try it out, it won't work,\", start=539.279, duration=4.161), FetchedTranscriptSnippet(text=\"I'll just delete it. but I don't have\", start=541.2, duration=4.56), FetchedTranscriptSnippet(text='like a spare phone.', start=543.44, duration=5.68), FetchedTranscriptSnippet(text='What is best practice for admins', start=545.76, duration=4.88), FetchedTranscriptSnippet(text='evaluating', start=549.12, duration=4.719), FetchedTranscriptSnippet(text='apps be it from labs or or somewhere on', start=550.64, duration=6.08), FetchedTranscriptSnippet(text='the on the app exchange in terms of', start=553.839, duration=5.521), FetchedTranscriptSnippet(text='trying and testing something out perhaps', start=556.72, duration=4.559), FetchedTranscriptSnippet(text='before it goes into production.', start=559.36, duration=3.44), FetchedTranscriptSnippet(text='>> Uh there absolutely are some best', start=561.279, duration=3.441), FetchedTranscriptSnippet(text='practices. Number one will be we do not', start=562.8, duration=3.599), FetchedTranscriptSnippet(text=\"install brand new apps we've never\", start=564.72, duration=4.239), FetchedTranscriptSnippet(text='explored into production.', start=566.399, duration=4.641), FetchedTranscriptSnippet(text=\"We do not do that. I'll repeat, we do\", start=568.959, duration=4.961), FetchedTranscriptSnippet(text='not do that. uh some uh trailblazers you', start=571.04, duration=4.96), FetchedTranscriptSnippet(text='know like to explore in a dev or first', start=573.92, duration=3.68), FetchedTranscriptSnippet(text='but you know the cons of that is you', start=576.0, duration=3.6), FetchedTranscriptSnippet(text=\"don't have your unique customizations.\", start=577.6, duration=4.16), FetchedTranscriptSnippet(text='Uh a lot of trailblazers have a lot of', start=579.6, duration=4.56), FetchedTranscriptSnippet(text='success in you know installing a lab', start=581.76, duration=3.92), FetchedTranscriptSnippet(text='solution or a partner solution in a', start=584.16, duration=3.6), FetchedTranscriptSnippet(text='sandbox first. So you can see what how', start=585.68, duration=3.599), FetchedTranscriptSnippet(text='it interacts with the customizations', start=587.76, duration=3.6), FetchedTranscriptSnippet(text=\"you've made to the platform. But both\", start=589.279, duration=4.321), FetchedTranscriptSnippet(text='either a dev or a sandbox is absolutely', start=591.36, duration=4.32), FetchedTranscriptSnippet(text='where you want to start to check out any', start=593.6, duration=3.679), FetchedTranscriptSnippet(text='new solution whether it be labs or', start=595.68, duration=3.04), FetchedTranscriptSnippet(text='partner solution.', start=597.279, duration=3.68), FetchedTranscriptSnippet(text='>> Yeah. So, that was the first mistake', start=598.72, duration=5.679), FetchedTranscriptSnippet(text='that I made back in the day. I would', start=600.959, duration=5.521), FetchedTranscriptSnippet(text='just try things out in production. Why', start=604.399, duration=2.641), FetchedTranscriptSnippet(text='not?', start=606.48, duration=2.56), FetchedTranscriptSnippet(text='>> Yeah. No, hopefully uh nobody takes that', start=607.04, duration=4.64), FetchedTranscriptSnippet(text=\"guidance, Mike. It's definitely uh it's\", start=609.04, duration=4.96), FetchedTranscriptSnippet(text=\"it's much more advantageous for everyone\", start=611.68, duration=4.08), FetchedTranscriptSnippet(text='to kind of play around and see how', start=614.0, duration=3.279), FetchedTranscriptSnippet(text='things work. And it gives you a little', start=615.76, duration=4.319), FetchedTranscriptSnippet(text='bit more freedom as an admin to kind of', start=617.279, duration=4.8), FetchedTranscriptSnippet(text='kind of look under the hood and see how', start=620.079, duration=3.76), FetchedTranscriptSnippet(text=\"exactly it's going to work and then what\", start=622.079, duration=4.081), FetchedTranscriptSnippet(text=\"your rollout plan is because it's just\", start=623.839, duration=4.24), FetchedTranscriptSnippet(text='like what I tell my labs builders. uh', start=626.16, duration=3.52), FetchedTranscriptSnippet(text=\"it's not if you build it they will come.\", start=628.079, duration=3.601), FetchedTranscriptSnippet(text=\"It's not if you install it it will work.\", start=629.68, duration=4.64), FetchedTranscriptSnippet(text='Right. Right. So you also need to have', start=631.68, duration=4.64), FetchedTranscriptSnippet(text='that kind of change management process', start=634.32, duration=3.68), FetchedTranscriptSnippet(text='at your organization. If you just', start=636.32, duration=3.12), FetchedTranscriptSnippet(text='install a new app and has some great', start=638.0, duration=2.88), FetchedTranscriptSnippet(text=\"functionality if you don't tell your\", start=639.44, duration=2.959), FetchedTranscriptSnippet(text='users about it once you move it to', start=640.88, duration=3.28), FetchedTranscriptSnippet(text='production you know they might not know', start=642.399, duration=3.361), FetchedTranscriptSnippet(text='what to do with it or they might not use', start=644.16, duration=3.52), FetchedTranscriptSnippet(text='it in the way that you had in mind. You', start=645.76, duration=4.079), FetchedTranscriptSnippet(text='know, I think we all know in technology', start=647.68, duration=4.159), FetchedTranscriptSnippet(text='when we release things into the wild of', start=649.839, duration=3.761), FetchedTranscriptSnippet(text='our user base, we are going to come', start=651.839, duration=3.44), FetchedTranscriptSnippet(text='across some use cases and edge cases', start=653.6, duration=3.6), FetchedTranscriptSnippet(text='that we never thought might be the', start=655.279, duration=3.841), FetchedTranscriptSnippet(text='reality. So, the more that you can get', start=657.2, duration=3.68), FetchedTranscriptSnippet(text='ahead of that in the change management', start=659.12, duration=3.2), FetchedTranscriptSnippet(text=\"process, uh it's just going to be\", start=660.88, duration=3.36), FetchedTranscriptSnippet(text='smoother for both you as an admin and', start=662.32, duration=3.6), FetchedTranscriptSnippet(text='also for your end users.', start=664.24, duration=4.48), FetchedTranscriptSnippet(text=\">> Yeah. Now, one thing I'd be remiss not\", start=665.92, duration=5.52), FetchedTranscriptSnippet(text='to cover, we covered a lot. We talked a', start=668.72, duration=5.04), FetchedTranscriptSnippet(text='lot about consumption part, but you', start=671.44, duration=5.12), FetchedTranscriptSnippet(text='mentioned labs is also open to non-', start=673.76, duration=5.199), FetchedTranscriptSnippet(text='Salesforce employees, correct?', start=676.56, duration=4.959), FetchedTranscriptSnippet(text='>> No. So, only Salesforce employees today', start=678.959, duration=4.401), FetchedTranscriptSnippet(text='can create and distribute a Salesforce', start=681.519, duration=2.721), FetchedTranscriptSnippet(text='lab solution.', start=683.36, duration=3.919), FetchedTranscriptSnippet(text='>> Gotcha. But our app exchange is open to', start=684.24, duration=4.08), FetchedTranscriptSnippet(text='non Salesforce.', start=687.279, duration=2.481), FetchedTranscriptSnippet(text='>> Absolutely. We have a very robust', start=688.32, duration=3.6), FetchedTranscriptSnippet(text='partner ecosystem and a process to', start=689.76, duration=4.16), FetchedTranscriptSnippet(text='engage. It can be a free solution that', start=691.92, duration=4.24), FetchedTranscriptSnippet(text='somebody wants to create as a business', start=693.92, duration=4.0), FetchedTranscriptSnippet(text='to kind of spin up and share with the', start=696.16, duration=2.799), FetchedTranscriptSnippet(text='community. You can go through our', start=697.92, duration=2.64), FetchedTranscriptSnippet(text='partner program to do that. And of', start=698.959, duration=3.601), FetchedTranscriptSnippet(text=\"course, uh it's, you know, it's an\", start=700.56, duration=4.08), FetchedTranscriptSnippet(text='ecosystem. So, if you have a solution', start=702.56, duration=4.88), FetchedTranscriptSnippet(text='idea that you believe is of value to our', start=704.64, duration=4.48), FetchedTranscriptSnippet(text='broader trailblazer community and', start=707.44, duration=3.6), FetchedTranscriptSnippet(text='customers, then you can engage with our', start=709.12, duration=3.52), FetchedTranscriptSnippet(text='program and list there. But anything', start=711.04, duration=3.6), FetchedTranscriptSnippet(text='created by Salesforce Labs is created by', start=712.64, duration=3.36), FetchedTranscriptSnippet(text='a Salesforce employee.', start=714.64, duration=3.759), FetchedTranscriptSnippet(text='>> Yeah. And I just also want to note labs', start=716.0, duration=4.24), FetchedTranscriptSnippet(text='go through the same security review', start=718.399, duration=3.201), FetchedTranscriptSnippet(text='process that all of our partner', start=720.24, duration=2.96), FetchedTranscriptSnippet(text='solutions go through as well.', start=721.6, duration=3.44), FetchedTranscriptSnippet(text=\">> Oh, so no cheating because it's a\", start=723.2, duration=2.879), FetchedTranscriptSnippet(text='Salesforce employee.', start=725.04, duration=2.64), FetchedTranscriptSnippet(text=\">> That's exactly right. You know, trust is\", start=726.079, duration=3.041), FetchedTranscriptSnippet(text='our number one value here. We want all', start=727.68, duration=3.12), FetchedTranscriptSnippet(text='the labs to adhere to that as well,', start=729.12, duration=4.399), FetchedTranscriptSnippet(text=\">> right? Yeah. No, it's same rules apply\", start=730.8, duration=4.719), FetchedTranscriptSnippet(text='for everybody. That way you get the the', start=733.519, duration=4.481), FetchedTranscriptSnippet(text='same quality and consistency. So that', start=735.519, duration=4.32), FetchedTranscriptSnippet(text='makes sense. Well, Sharon, thanks for', start=738.0, duration=3.44), FetchedTranscriptSnippet(text='coming on the podcast. I think this', start=739.839, duration=3.921), FetchedTranscriptSnippet(text='session is going to be awesome. Uh, I', start=741.44, duration=4.24), FetchedTranscriptSnippet(text=\"can't wait to to hear what people have\", start=743.76, duration=4.079), FetchedTranscriptSnippet(text=\"to say about it and I can't wait to see\", start=745.68, duration=4.24), FetchedTranscriptSnippet(text='what new stuff comes out from the labs', start=747.839, duration=3.041), FetchedTranscriptSnippet(text='team.', start=749.92, duration=2.4), FetchedTranscriptSnippet(text='>> Yeah. Well, thank you for having me.', start=750.88, duration=2.8), FetchedTranscriptSnippet(text=\"Hopefully it's not it's the first time,\", start=752.32, duration=3.199), FetchedTranscriptSnippet(text=\"but hopefully not the last time. I've\", start=753.68, duration=3.44), FetchedTranscriptSnippet(text='really enjoyed chatting with you, Mike.', start=755.519, duration=3.841), FetchedTranscriptSnippet(text='And if anybody is at the session and', start=757.12, duration=4.24), FetchedTranscriptSnippet(text='shows up at Dreamforce, stop by and say', start=759.36, duration=4.159), FetchedTranscriptSnippet(text=\"hello. I'd love to meet you. Uh, and I'm\", start=761.36, duration=4.32), FetchedTranscriptSnippet(text='on LinkedIn and if you want to engage', start=763.519, duration=3.601), FetchedTranscriptSnippet(text='with that way, share any feedback about', start=765.68, duration=3.279), FetchedTranscriptSnippet(text=\"the labs program, uh, I'm happy to\", start=767.12, duration=4.11), FetchedTranscriptSnippet(text='engage.', start=768.959, duration=6.081), FetchedTranscriptSnippet(text='[Music]', start=771.23, duration=6.45), FetchedTranscriptSnippet(text='So, a big thanks to Sharon for joining', start=775.04, duration=4.88), FetchedTranscriptSnippet(text='us and sharing some behindthescenes look', start=777.68, duration=4.399), FetchedTranscriptSnippet(text=\"at the uh Salesforce Labs. I don't know\", start=779.92, duration=3.76), FetchedTranscriptSnippet(text=\"about you, but I'm ready to fire up a\", start=782.079, duration=4.401), FetchedTranscriptSnippet(text='sandbox and test drive some Labs apps.', start=783.68, duration=4.88), FetchedTranscriptSnippet(text='That was always the most fun part for me', start=786.48, duration=5.039), FetchedTranscriptSnippet(text='as an admin. But remember, not in', start=788.56, duration=6.399), FetchedTranscriptSnippet(text='production, just in a sandbox or not in', start=791.519, duration=6.721), FetchedTranscriptSnippet(text=\"production. But uh hey, if you're\", start=794.959, duration=5.68), FetchedTranscriptSnippet(text=\"heading to Dreamforce, don't miss her\", start=798.24, duration=5.44), FetchedTranscriptSnippet(text='session on the seven plus she says a few', start=800.639, duration=5.681), FetchedTranscriptSnippet(text='bonus free sessions to fuel your AI', start=803.68, duration=5.12), FetchedTranscriptSnippet(text='strategy. And remember, best part about', start=806.32, duration=4.72), FetchedTranscriptSnippet(text=\"Salesforce Labs apps is they're free and\", start=808.8, duration=4.88), FetchedTranscriptSnippet(text='open and they are built with you, the', start=811.04, duration=4.4), FetchedTranscriptSnippet(text='community, the Salesforce admins,', start=813.68, duration=4.64), FetchedTranscriptSnippet(text='developers, architects in mind. So with', start=815.44, duration=5.12), FetchedTranscriptSnippet(text=\"that, until next time, we'll see you in\", start=818.32, duration=5.48), FetchedTranscriptSnippet(text='the cloud.', start=820.56, duration=3.24), FetchedTranscriptSnippet(text='[Music]', start=824.9, duration=16.409)], video_id='ZGJ0ITMNOtM', language='English (auto-generated)', language_code='en', is_generated=True)\n"
     ]
    }
   ],
   "source": [
    "print(\"Transcript List:\", transcript_list)"
   ]
  },
  {
   "cell_type": "markdown",
   "id": "afeb3c14",
   "metadata": {},
   "source": [
    "## Step 1b - Indexing (Text Splitting)"
   ]
  },
  {
   "cell_type": "code",
   "execution_count": 5,
   "id": "c4b67b69",
   "metadata": {},
   "outputs": [],
   "source": [
    "splitter = RecursiveCharacterTextSplitter(chunk_size=1000, chunk_overlap=200)\n",
    "chunks = splitter.create_documents([transcript])"
   ]
  },
  {
   "cell_type": "code",
   "execution_count": 6,
   "id": "f6b8d1eb",
   "metadata": {},
   "outputs": [
    {
     "data": {
      "text/plain": [
       "18"
      ]
     },
     "execution_count": 6,
     "metadata": {},
     "output_type": "execute_result"
    }
   ],
   "source": [
    "len(chunks)"
   ]
  },
  {
   "cell_type": "code",
   "execution_count": 7,
   "id": "7ee4e8f3",
   "metadata": {},
   "outputs": [
    {
     "data": {
      "text/plain": [
       "Document(metadata={}, page_content=\"500 >> you don't know all 500 just like the back of your hand come >> unfortunately do not I know many of them but not all 500 uh but yeah most of them should be extended we're actually looking at engaging with some of our more popular lab solutions and having conversations with the builders to say like what are ways that we could extend this uh using newer technology that's come out either adjacent you know something like if you want to use AI you can you know add on to it but if you still want to use the main kind of core functionality like custom objects and and flows that was there but not you know to have an AI arm to it then you could still use the original but how can we take these to the next level using you know the great technology that's come out over the past couple of years >> yeah now I think the use of apps within Salesforce is is probably evolved since you and I were out in the world as we little admins wandering blindly through the the Salesforce universe because like\")"
      ]
     },
     "execution_count": 7,
     "metadata": {},
     "output_type": "execute_result"
    }
   ],
   "source": [
    "chunks[10]"
   ]
  },
  {
   "cell_type": "markdown",
   "id": "ea99ba5d",
   "metadata": {},
   "source": [
    "## Step 1c & 1d - Indexing (Embedding Generation and Storing in Vector Store)"
   ]
  },
  {
   "cell_type": "code",
   "execution_count": 8,
   "id": "a5028795",
   "metadata": {},
   "outputs": [],
   "source": [
    "embeddings = OpenAIEmbeddings(model=\"text-embedding-3-small\")\n",
    "vector_store = FAISS.from_documents(chunks, embeddings)"
   ]
  },
  {
   "cell_type": "code",
   "execution_count": 9,
   "id": "89117455",
   "metadata": {},
   "outputs": [
    {
     "data": {
      "text/plain": [
       "{0: 'c683c61c-c63a-47ac-a068-0c8703afd1c9',\n",
       " 1: 'aa250cac-3472-4074-8dbc-4c7a400aacd9',\n",
       " 2: 'b086db77-a1b2-4898-a82d-4466c4b20407',\n",
       " 3: '573e6641-8469-4a54-bbf3-ac439561a2e7',\n",
       " 4: 'bc9de0e9-1142-4644-8d3f-8a7861d4752f',\n",
       " 5: '87d8e454-eb03-4b50-bef3-8a025c8033e8',\n",
       " 6: '830a3291-b3bc-4b49-805b-a6e67743061a',\n",
       " 7: 'e7e880fa-b9ed-4e09-8a3c-b384f5867ec2',\n",
       " 8: '7425ed21-8bc8-44b6-b26b-bee8cb12b408',\n",
       " 9: '7566bf8d-6c11-42f8-9a36-e1085d1c76d6',\n",
       " 10: 'f5b2cb69-5354-4f4d-ac83-4fde6f5818a9',\n",
       " 11: 'c21f82ec-faa1-4ed3-b44a-38d0866e1a3b',\n",
       " 12: 'd8dd00f6-5eb6-4ba9-a60d-5f022a3014a4',\n",
       " 13: 'c182ed32-eb7e-496a-820b-3e563ce6b191',\n",
       " 14: 'be18737e-bb2e-489e-92f5-f4cf87ad98a6',\n",
       " 15: '81fe393a-5960-4a39-b0fe-78fff16ad670',\n",
       " 16: '0177e079-678e-4cc1-966b-fd546ac2adae',\n",
       " 17: '054d17f3-b16e-40c8-ab7d-f2485aaadb35'}"
      ]
     },
     "execution_count": 9,
     "metadata": {},
     "output_type": "execute_result"
    }
   ],
   "source": [
    "vector_store.index_to_docstore_id"
   ]
  },
  {
   "cell_type": "code",
   "execution_count": 11,
   "id": "9c7fe2c2",
   "metadata": {},
   "outputs": [
    {
     "data": {
      "text/plain": [
       "[Document(id='830a3291-b3bc-4b49-805b-a6e67743061a', metadata={}, page_content=\"different solutions on how to use this new technology but also I think even more importantly is how do we think about how do we want to implement AI at our organization and sometimes that might actually be using a lab solution or another partner solution on app exchange that isn't actually AIdriven but helps set the groundwork for how do you have a strong AI strategy. So an example of that would be, you know, is there a set of technology or tools or processes that you should have in place at your organization to really help you identify what are your goals and use cases for using AI. Uh and we have a number of different lab solutions that we'll we'll share. They'll be the pro tip for anybody who's going to see the content. Uh we'll throw it be probably a few more solutions than seven. Uh we'll throw a couple bonus things in there, some shout outs, but there's a lot of technology out there to really help you frame, you know, is your data ready? Like data readiness is super important as\")]"
      ]
     },
     "execution_count": 11,
     "metadata": {},
     "output_type": "execute_result"
    }
   ],
   "source": [
    "vector_store.get_by_ids([\"830a3291-b3bc-4b49-805b-a6e67743061a\"])"
   ]
  },
  {
   "cell_type": "markdown",
   "id": "ca1861fb",
   "metadata": {},
   "source": [
    "## Step 2 - Retrieval"
   ]
  },
  {
   "cell_type": "code",
   "execution_count": 12,
   "id": "6cca6e75",
   "metadata": {},
   "outputs": [],
   "source": [
    "retriever = vector_store.as_retriever(search_type=\"similarity\", search_kwargs={\"k\": 4})"
   ]
  },
  {
   "cell_type": "code",
   "execution_count": 13,
   "id": "f81d6e4f",
   "metadata": {},
   "outputs": [
    {
     "data": {
      "text/plain": [
       "VectorStoreRetriever(tags=['FAISS', 'OpenAIEmbeddings'], vectorstore=<langchain_community.vectorstores.faiss.FAISS object at 0x11fc84ad0>, search_kwargs={'k': 4})"
      ]
     },
     "execution_count": 13,
     "metadata": {},
     "output_type": "execute_result"
    }
   ],
   "source": [
    "retriever"
   ]
  },
  {
   "cell_type": "code",
   "execution_count": 14,
   "id": "923ed1a1",
   "metadata": {},
   "outputs": [
    {
     "data": {
      "text/plain": [
       "[Document(id='e7e880fa-b9ed-4e09-8a3c-b384f5867ec2', metadata={}, page_content=\"throw a couple bonus things in there, some shout outs, but there's a lot of technology out there to really help you frame, you know, is your data ready? Like data readiness is super important as an AI strategy uh to move forward in the space if you're going to train your AI or use AI on your data. And if your data is no good, then you're going to have a problem. The AI isn't going to respond the way that you expect or what your business needs. So we want to showcase these solutions that you can use to get started to help ground you in strong AI strategies. >> So it's not just downloading agents. >> Exactly. It's going to be more than that. It's really about thinking about how do you have meaningful and mindful implementation of AI at your organization. Uh and we'll also have some showcases of of how to use cool agent forests and AI technology. >> Oh nice. Um, I noticed you put the word free in your title. That implies that there's some that aren't free. >> Uh, yes. So, all Salesforce\"),\n",
       " Document(id='830a3291-b3bc-4b49-805b-a6e67743061a', metadata={}, page_content=\"different solutions on how to use this new technology but also I think even more importantly is how do we think about how do we want to implement AI at our organization and sometimes that might actually be using a lab solution or another partner solution on app exchange that isn't actually AIdriven but helps set the groundwork for how do you have a strong AI strategy. So an example of that would be, you know, is there a set of technology or tools or processes that you should have in place at your organization to really help you identify what are your goals and use cases for using AI. Uh and we have a number of different lab solutions that we'll we'll share. They'll be the pro tip for anybody who's going to see the content. Uh we'll throw it be probably a few more solutions than seven. Uh we'll throw a couple bonus things in there, some shout outs, but there's a lot of technology out there to really help you frame, you know, is your data ready? Like data readiness is super important as\"),\n",
       " Document(id='87d8e454-eb03-4b50-bef3-8a025c8033e8', metadata={}, page_content=\"out cuz we're geeky like that, >> right? I know. Um, it kind of has like a Breaking Bad feel to it. I'm all about that. So, at Dreamforce, you're going to talk about seven free solutions to drive your AI strategy forward. It's going to be a really cool presentation, and some people are going to get to see it, some people aren't. Why is it important for admins to look to the app exchange and some of our labs apps in terms of moving AI forward in their organizations? >> Uh yeah, so right now AI is moving at the speed of light or whatever is faster than the speed of light. I'm not sure what that is, but there's probably something faster than the speed of light. And that's what it feels like is happening right now. So one of the benefits that the labs program will have is is we can showcase different solutions on how to use this new technology but also I think even more importantly is how do we think about how do we want to implement AI at our organization and sometimes that might\"),\n",
       " Document(id='c182ed32-eb7e-496a-820b-3e563ce6b191', metadata={}, page_content=\"for everyone to kind of play around and see how things work. And it gives you a little bit more freedom as an admin to kind of kind of look under the hood and see how exactly it's going to work and then what your rollout plan is because it's just like what I tell my labs builders. uh it's not if you build it they will come. It's not if you install it it will work. Right. Right. So you also need to have that kind of change management process at your organization. If you just install a new app and has some great functionality if you don't tell your users about it once you move it to production you know they might not know what to do with it or they might not use it in the way that you had in mind. You know, I think we all know in technology when we release things into the wild of our user base, we are going to come across some use cases and edge cases that we never thought might be the reality. So, the more that you can get ahead of that in the change management process, uh it's just\")]"
      ]
     },
     "execution_count": 14,
     "metadata": {},
     "output_type": "execute_result"
    }
   ],
   "source": [
    "retriever.invoke(\"Does it data ready?\")"
   ]
  },
  {
   "cell_type": "markdown",
   "id": "909e2615",
   "metadata": {},
   "source": [
    "## Step 3 - Augmentation"
   ]
  },
  {
   "cell_type": "code",
   "execution_count": 15,
   "id": "a698f1bd",
   "metadata": {},
   "outputs": [],
   "source": [
    "llm = ChatOpenAI(model=\"gpt-4o-mini\", temperature=0.2)"
   ]
  },
  {
   "cell_type": "code",
   "execution_count": 16,
   "id": "a95c7c7a",
   "metadata": {},
   "outputs": [],
   "source": [
    "prompt = PromptTemplate(\n",
    "    template=\"\"\"\n",
    "      You are a helpful assistant.\n",
    "      Answer ONLY from the provided transcript context.\n",
    "      If the context is insufficient, just say you don't know.\n",
    "\n",
    "      {context}\n",
    "      Question: {question}\n",
    "    \"\"\",\n",
    "    input_variables=[\"context\", \"question\"],\n",
    ")"
   ]
  },
  {
   "cell_type": "code",
   "execution_count": 17,
   "id": "9c113d2a",
   "metadata": {},
   "outputs": [],
   "source": [
    "question = \"is the topic of Salesforce discussed in this video? if yes then what was discussed\"\n",
    "retrieved_docs = retriever.invoke(question)"
   ]
  },
  {
   "cell_type": "code",
   "execution_count": 18,
   "id": "c780f447",
   "metadata": {},
   "outputs": [
    {
     "data": {
      "text/plain": [
       "[Document(id='aa250cac-3472-4074-8dbc-4c7a400aacd9', metadata={}, page_content=\"in the world that hasn't been on the Salesforce admin podcast, despite you and me being in the ecosystem for like a thousand years. >> I know. Well, I was thinking about this this morning and I was like, I can't believe I haven't been on here yet. So, I'm super excited to share with the listeners here today. >> Well, let's talk about that. So, how did you get started in Salesforce and and in the ecosystem and and what do you do at Salesforce? >> Oh, I love a Salesforce origin story. So, picture it's 2010. Uh, and I'm working at a software company that gets bought by an equity partner and that equity partner implements Salesforce at every company they buy. And that was my first introduction to Salesforce back when it was just sales and service cloud. And I absolutely fell in love with the platform. I felt empowered. There was community behind it. And uh ever since then, so from 2010 till today, I've been all Salesforce all the time. >> Wow. And you joined Salesforce. What part of\"),\n",
       " Document(id='b086db77-a1b2-4898-a82d-4466c4b20407', metadata={}, page_content=\"the platform. I felt empowered. There was community behind it. And uh ever since then, so from 2010 till today, I've been all Salesforce all the time. >> Wow. And you joined Salesforce. What part of Salesforce did you join? >> So when I joined Salesforce in 2018, uh I joined leading the Salesforce Labs program. That was exclusively my focus. It's been part of my remitt uh my entire time almost eight years here at Salesforce and I've added some other things to to what I do on the daily basis. But the Salesforce Labs program, community innovation, it's my passion area. It's what brings me joy. Uh I just actually love being part of it. Seeing the creativity of the employee community creating labs and seeing the the creativity of our trailblazers who are using lab solutions. So for anybody that hasn't heard about Labs, like when you say Salesforce Labs, what do you mean? >> So Salesforce Labs is a program that's actually turning 20 next year, if you can believe it. It's an innovation\"),\n",
       " Document(id='be18737e-bb2e-489e-92f5-f4cf87ad98a6', metadata={}, page_content=\"base, we are going to come across some use cases and edge cases that we never thought might be the reality. So, the more that you can get ahead of that in the change management process, uh it's just going to be smoother for both you as an admin and also for your end users. >> Yeah. Now, one thing I'd be remiss not to cover, we covered a lot. We talked a lot about consumption part, but you mentioned labs is also open to non- Salesforce employees, correct? >> No. So, only Salesforce employees today can create and distribute a Salesforce lab solution. >> Gotcha. But our app exchange is open to non Salesforce. >> Absolutely. We have a very robust partner ecosystem and a process to engage. It can be a free solution that somebody wants to create as a business to kind of spin up and share with the community. You can go through our partner program to do that. And of course, uh it's, you know, it's an ecosystem. So, if you have a solution idea that you believe is of value to our broader\"),\n",
       " Document(id='573e6641-8469-4a54-bbf3-ac439561a2e7', metadata={}, page_content=\"that hasn't heard about Labs, like when you say Salesforce Labs, what do you mean? >> So Salesforce Labs is a program that's actually turning 20 next year, if you can believe it. It's an innovation program where we empower Salesforce employees to create solutions, package them, and share them on App Exchange for our customers to use. And Salesforce Lab solutions are always free. They're communitydriven. You can think of them like an open-source project. Uh so it's volunteered by employees. So it's not an employee who is on a product team and this is part of you know their regular release roadmap. This is an employee who sees a problem in the space that they want to solve or they have a really creative idea on how to use our technology. So the labs program really helps trailblazers to learn new technology, play around with it, get starter packs and templates. You know blank canvas anxiety is is a real struggle as an admin thrown back a few years from my admin days. But sometimes a new\")]"
      ]
     },
     "execution_count": 18,
     "metadata": {},
     "output_type": "execute_result"
    }
   ],
   "source": [
    "retrieved_docs"
   ]
  },
  {
   "cell_type": "code",
   "execution_count": 19,
   "id": "00fe2a1c",
   "metadata": {},
   "outputs": [
    {
     "data": {
      "text/plain": [
       "\"in the world that hasn't been on the Salesforce admin podcast, despite you and me being in the ecosystem for like a thousand years. >> I know. Well, I was thinking about this this morning and I was like, I can't believe I haven't been on here yet. So, I'm super excited to share with the listeners here today. >> Well, let's talk about that. So, how did you get started in Salesforce and and in the ecosystem and and what do you do at Salesforce? >> Oh, I love a Salesforce origin story. So, picture it's 2010. Uh, and I'm working at a software company that gets bought by an equity partner and that equity partner implements Salesforce at every company they buy. And that was my first introduction to Salesforce back when it was just sales and service cloud. And I absolutely fell in love with the platform. I felt empowered. There was community behind it. And uh ever since then, so from 2010 till today, I've been all Salesforce all the time. >> Wow. And you joined Salesforce. What part of\\n\\nthe platform. I felt empowered. There was community behind it. And uh ever since then, so from 2010 till today, I've been all Salesforce all the time. >> Wow. And you joined Salesforce. What part of Salesforce did you join? >> So when I joined Salesforce in 2018, uh I joined leading the Salesforce Labs program. That was exclusively my focus. It's been part of my remitt uh my entire time almost eight years here at Salesforce and I've added some other things to to what I do on the daily basis. But the Salesforce Labs program, community innovation, it's my passion area. It's what brings me joy. Uh I just actually love being part of it. Seeing the creativity of the employee community creating labs and seeing the the creativity of our trailblazers who are using lab solutions. So for anybody that hasn't heard about Labs, like when you say Salesforce Labs, what do you mean? >> So Salesforce Labs is a program that's actually turning 20 next year, if you can believe it. It's an innovation\\n\\nbase, we are going to come across some use cases and edge cases that we never thought might be the reality. So, the more that you can get ahead of that in the change management process, uh it's just going to be smoother for both you as an admin and also for your end users. >> Yeah. Now, one thing I'd be remiss not to cover, we covered a lot. We talked a lot about consumption part, but you mentioned labs is also open to non- Salesforce employees, correct? >> No. So, only Salesforce employees today can create and distribute a Salesforce lab solution. >> Gotcha. But our app exchange is open to non Salesforce. >> Absolutely. We have a very robust partner ecosystem and a process to engage. It can be a free solution that somebody wants to create as a business to kind of spin up and share with the community. You can go through our partner program to do that. And of course, uh it's, you know, it's an ecosystem. So, if you have a solution idea that you believe is of value to our broader\\n\\nthat hasn't heard about Labs, like when you say Salesforce Labs, what do you mean? >> So Salesforce Labs is a program that's actually turning 20 next year, if you can believe it. It's an innovation program where we empower Salesforce employees to create solutions, package them, and share them on App Exchange for our customers to use. And Salesforce Lab solutions are always free. They're communitydriven. You can think of them like an open-source project. Uh so it's volunteered by employees. So it's not an employee who is on a product team and this is part of you know their regular release roadmap. This is an employee who sees a problem in the space that they want to solve or they have a really creative idea on how to use our technology. So the labs program really helps trailblazers to learn new technology, play around with it, get starter packs and templates. You know blank canvas anxiety is is a real struggle as an admin thrown back a few years from my admin days. But sometimes a new\""
      ]
     },
     "execution_count": 19,
     "metadata": {},
     "output_type": "execute_result"
    }
   ],
   "source": [
    "context_text = \"\\n\\n\".join(doc.page_content for doc in retrieved_docs)\n",
    "context_text"
   ]
  },
  {
   "cell_type": "code",
   "execution_count": 20,
   "id": "d27a5a9f",
   "metadata": {},
   "outputs": [],
   "source": [
    "final_prompt = prompt.invoke({\"context\": context_text, \"question\": question})"
   ]
  },
  {
   "cell_type": "code",
   "execution_count": 21,
   "id": "128be532",
   "metadata": {},
   "outputs": [
    {
     "data": {
      "text/plain": [
       "StringPromptValue(text=\"\\n      You are a helpful assistant.\\n      Answer ONLY from the provided transcript context.\\n      If the context is insufficient, just say you don't know.\\n\\n      in the world that hasn't been on the Salesforce admin podcast, despite you and me being in the ecosystem for like a thousand years. >> I know. Well, I was thinking about this this morning and I was like, I can't believe I haven't been on here yet. So, I'm super excited to share with the listeners here today. >> Well, let's talk about that. So, how did you get started in Salesforce and and in the ecosystem and and what do you do at Salesforce? >> Oh, I love a Salesforce origin story. So, picture it's 2010. Uh, and I'm working at a software company that gets bought by an equity partner and that equity partner implements Salesforce at every company they buy. And that was my first introduction to Salesforce back when it was just sales and service cloud. And I absolutely fell in love with the platform. I felt empowered. There was community behind it. And uh ever since then, so from 2010 till today, I've been all Salesforce all the time. >> Wow. And you joined Salesforce. What part of\\n\\nthe platform. I felt empowered. There was community behind it. And uh ever since then, so from 2010 till today, I've been all Salesforce all the time. >> Wow. And you joined Salesforce. What part of Salesforce did you join? >> So when I joined Salesforce in 2018, uh I joined leading the Salesforce Labs program. That was exclusively my focus. It's been part of my remitt uh my entire time almost eight years here at Salesforce and I've added some other things to to what I do on the daily basis. But the Salesforce Labs program, community innovation, it's my passion area. It's what brings me joy. Uh I just actually love being part of it. Seeing the creativity of the employee community creating labs and seeing the the creativity of our trailblazers who are using lab solutions. So for anybody that hasn't heard about Labs, like when you say Salesforce Labs, what do you mean? >> So Salesforce Labs is a program that's actually turning 20 next year, if you can believe it. It's an innovation\\n\\nbase, we are going to come across some use cases and edge cases that we never thought might be the reality. So, the more that you can get ahead of that in the change management process, uh it's just going to be smoother for both you as an admin and also for your end users. >> Yeah. Now, one thing I'd be remiss not to cover, we covered a lot. We talked a lot about consumption part, but you mentioned labs is also open to non- Salesforce employees, correct? >> No. So, only Salesforce employees today can create and distribute a Salesforce lab solution. >> Gotcha. But our app exchange is open to non Salesforce. >> Absolutely. We have a very robust partner ecosystem and a process to engage. It can be a free solution that somebody wants to create as a business to kind of spin up and share with the community. You can go through our partner program to do that. And of course, uh it's, you know, it's an ecosystem. So, if you have a solution idea that you believe is of value to our broader\\n\\nthat hasn't heard about Labs, like when you say Salesforce Labs, what do you mean? >> So Salesforce Labs is a program that's actually turning 20 next year, if you can believe it. It's an innovation program where we empower Salesforce employees to create solutions, package them, and share them on App Exchange for our customers to use. And Salesforce Lab solutions are always free. They're communitydriven. You can think of them like an open-source project. Uh so it's volunteered by employees. So it's not an employee who is on a product team and this is part of you know their regular release roadmap. This is an employee who sees a problem in the space that they want to solve or they have a really creative idea on how to use our technology. So the labs program really helps trailblazers to learn new technology, play around with it, get starter packs and templates. You know blank canvas anxiety is is a real struggle as an admin thrown back a few years from my admin days. But sometimes a new\\n      Question: is the topic of Salesforce discussed in this video? if yes then what was discussed\\n    \")"
      ]
     },
     "execution_count": 21,
     "metadata": {},
     "output_type": "execute_result"
    }
   ],
   "source": [
    "final_prompt"
   ]
  },
  {
   "cell_type": "markdown",
   "id": "83c876f3",
   "metadata": {},
   "source": [
    "## Step 4 - Generation"
   ]
  },
  {
   "cell_type": "code",
   "execution_count": 22,
   "id": "45ee4eb9",
   "metadata": {},
   "outputs": [
    {
     "name": "stdout",
     "output_type": "stream",
     "text": [
      "Yes, the topic of Salesforce is discussed in this video. The discussion includes the speaker's origin story with Salesforce, starting from their introduction to the platform in 2010, their passion for it, and their role at Salesforce since 2018 leading the Salesforce Labs program. They explain what Salesforce Labs is, describing it as an innovation program where Salesforce employees create free solutions to share on the App Exchange. The conversation also touches on the community-driven aspect of Labs and how it empowers employees to solve problems and share creative ideas. Additionally, it mentions that only Salesforce employees can create and distribute Salesforce Lab solutions, while the App Exchange is open to non-Salesforce employees for creating and sharing solutions.\n"
     ]
    }
   ],
   "source": [
    "answer = llm.invoke(final_prompt)\n",
    "print(answer.content)"
   ]
  },
  {
   "cell_type": "markdown",
   "id": "d8727136",
   "metadata": {},
   "source": [
    "## Building a Chain"
   ]
  },
  {
   "cell_type": "code",
   "execution_count": 23,
   "id": "93dd8299",
   "metadata": {},
   "outputs": [],
   "source": [
    "from langchain_core.runnables import (\n",
    "    RunnableParallel,\n",
    "    RunnablePassthrough,\n",
    "    RunnableLambda,\n",
    ")\n",
    "from langchain_core.output_parsers import StrOutputParser"
   ]
  },
  {
   "cell_type": "code",
   "execution_count": 24,
   "id": "6caf4135",
   "metadata": {},
   "outputs": [],
   "source": [
    "def format_docs(retrieved_docs):\n",
    "    context_text = \"\\n\\n\".join(doc.page_content for doc in retrieved_docs)\n",
    "    return context_text"
   ]
  },
  {
   "cell_type": "code",
   "execution_count": 25,
   "id": "d0636305",
   "metadata": {},
   "outputs": [],
   "source": [
    "parallel_chain = RunnableParallel(\n",
    "    {\n",
    "        \"context\": retriever | RunnableLambda(format_docs),\n",
    "        \"question\": RunnablePassthrough(),\n",
    "    }\n",
    ")"
   ]
  },
  {
   "cell_type": "code",
   "execution_count": 26,
   "id": "a3d8241a",
   "metadata": {},
   "outputs": [
    {
     "data": {
      "text/plain": [
       "{'context': \"So that makes sense. Well, Sharon, thanks for coming on the podcast. I think this session is going to be awesome. Uh, I can't wait to to hear what people have to say about it and I can't wait to see what new stuff comes out from the labs team. >> Yeah. Well, thank you for having me. Hopefully it's not it's the first time, but hopefully not the last time. I've really enjoyed chatting with you, Mike. And if anybody is at the session and shows up at Dreamforce, stop by and say hello. I'd love to meet you. Uh, and I'm on LinkedIn and if you want to engage with that way, share any feedback about the labs program, uh, I'm happy to engage. [Music] So, a big thanks to Sharon for joining us and sharing some behindthescenes look at the uh Salesforce Labs. I don't know about you, but I'm ready to fire up a sandbox and test drive some Labs apps. That was always the most fun part for me as an admin. But remember, not in production, just in a sandbox or not in production. But uh hey, if you're\\n\\nfire up a sandbox and test drive some Labs apps. That was always the most fun part for me as an admin. But remember, not in production, just in a sandbox or not in production. But uh hey, if you're heading to Dreamforce, don't miss her session on the seven plus she says a few bonus free sessions to fuel your AI strategy. And remember, best part about Salesforce Labs apps is they're free and open and they are built with you, the community, the Salesforce admins, developers, architects in mind. So with that, until next time, we'll see you in the cloud. [Music]\\n\\nin the world that hasn't been on the Salesforce admin podcast, despite you and me being in the ecosystem for like a thousand years. >> I know. Well, I was thinking about this this morning and I was like, I can't believe I haven't been on here yet. So, I'm super excited to share with the listeners here today. >> Well, let's talk about that. So, how did you get started in Salesforce and and in the ecosystem and and what do you do at Salesforce? >> Oh, I love a Salesforce origin story. So, picture it's 2010. Uh, and I'm working at a software company that gets bought by an equity partner and that equity partner implements Salesforce at every company they buy. And that was my first introduction to Salesforce back when it was just sales and service cloud. And I absolutely fell in love with the platform. I felt empowered. There was community behind it. And uh ever since then, so from 2010 till today, I've been all Salesforce all the time. >> Wow. And you joined Salesforce. What part of\\n\\n[Music] This week on the Salesforce admin podcast, I sit down with Sharon Clardy, who's the senior director of Salesforce Labs, to talk about, well, hm, what else? Free innovation. Sharon shares how Labs empowers Salesforce employees to build and share solutions on the app exchange and what that means for Salesforce admins navigating the new world of AI and why this is important. You should never install a new app straight into production. Now, whether you're Dreamforcebound or catching up after Dreamforce, this one's packed with a lot of great tips from Sharon and a lot of AI strategy gold. So, tune in, take notes, and let's get Sharon on the podcast. [Music] So, Sharon, welcome to the podcast. >> Thank you for having me, Mike. >> I find it hard to believe, but you are one of the few people in the world that hasn't been on the Salesforce admin podcast, despite you and me being in the ecosystem for like a thousand years. >> I know. Well, I was thinking about this this morning and I was\",\n",
       " 'question': 'who is Demis'}"
      ]
     },
     "execution_count": 26,
     "metadata": {},
     "output_type": "execute_result"
    }
   ],
   "source": [
    "parallel_chain.invoke(\"who is Demis\")"
   ]
  },
  {
   "cell_type": "code",
   "execution_count": 27,
   "id": "425c3055",
   "metadata": {},
   "outputs": [],
   "source": [
    "parser = StrOutputParser()"
   ]
  },
  {
   "cell_type": "code",
   "execution_count": 28,
   "id": "762f30ee",
   "metadata": {},
   "outputs": [],
   "source": [
    "main_chain = parallel_chain | prompt | llm | parser"
   ]
  },
  {
   "cell_type": "code",
   "execution_count": 29,
   "id": "295170c1",
   "metadata": {},
   "outputs": [
    {
     "data": {
      "text/plain": [
       "'The video features a discussion about Salesforce Labs and its role in helping administrators adopt new technology. The speakers emphasize the importance of data readiness for effective AI implementation and showcase various free solutions available to assist users in this process. They also mention the evolution of the Labs logo and the fun of experimenting with new apps in a sandbox environment. Additionally, they highlight that all Labs solutions undergo the same security review process as partner solutions to ensure quality and trust. The conversation concludes with an invitation for attendees at Dreamforce to engage with the speakers and provide feedback on the Labs program.'"
      ]
     },
     "execution_count": 29,
     "metadata": {},
     "output_type": "execute_result"
    }
   ],
   "source": [
    "main_chain.invoke(\"Can you summarize the video\")"
   ]
  }
 ],
 "metadata": {
  "kernelspec": {
   "display_name": "langchain_env",
   "language": "python",
   "name": "langchain_env"
  },
  "language_info": {
   "codemirror_mode": {
    "name": "ipython",
    "version": 3
   },
   "file_extension": ".py",
   "mimetype": "text/x-python",
   "name": "python",
   "nbconvert_exporter": "python",
   "pygments_lexer": "ipython3",
   "version": "3.13.7"
  }
 },
 "nbformat": 4,
 "nbformat_minor": 5
}
